{
 "cells": [
  {
   "cell_type": "code",
   "execution_count": null,
   "metadata": {
    "collapsed": true
   },
   "outputs": [],
   "source": [
    "from selenium import webdriver\n",
    "from bs4 import BeautifulSoup\n",
    "import time\n",
    "import requests\n",
    "import re\n",
    "import json\n",
    "from pymongo import MongoClient\n",
    "from odo import odo\n",
    "from selenium import webdriver\n",
    "from selenium.webdriver.common.keys import Keys\n",
    "import time"
   ]
  },
  {
   "cell_type": "code",
   "execution_count": null,
   "metadata": {
    "collapsed": true
   },
   "outputs": [],
   "source": [
    "#import os\n",
    "#chromedriver = \"/home/allisonschlissel/notebooks/chromedriver\"\n",
    "#os.environ[\"webdriver.chrome.driver\"] = chromedriver\n",
    "\n",
    "\n",
    "\n",
    "#driver = webdriver.Chrome(chromedriver)\n",
    "#driver.get(\"https://mail.google.com\")"
   ]
  },
  {
   "cell_type": "code",
   "execution_count": null,
   "metadata": {
    "collapsed": true
   },
   "outputs": [],
   "source": [
    "lst = ['http://www.metmuseum.org/art/collection#!?material=Paintings&showOnly=withImage&offset=' + str(x) + '&pageSize=0&sortBy=Relevance&sortOrder=asc&perPage=20' for x in range(0, 12017, 20)]\n",
    "for i in lst:\n",
    "    print i"
   ]
  },
  {
   "cell_type": "code",
   "execution_count": null,
   "metadata": {
    "collapsed": true
   },
   "outputs": [],
   "source": [
    "for i in range(len(lst)):\n",
    "    driver = webdriver.PhantomJS()  \n",
    "    driver.implicitly_wait(1)\n",
    "    driver.get(lst[i])\n",
    "    html = driver.page_source\n",
    "    driver.quit()"
   ]
  },
  {
   "cell_type": "code",
   "execution_count": null,
   "metadata": {
    "collapsed": true
   },
   "outputs": [],
   "source": [
    "my_links = []\n",
    "\n",
    "soup = BeautifulSoup(html, 'html.parser')\n",
    "\n",
    "for figure in soup.find_all('figure',class_=\"card__standard-image\"):\n",
    "    fig = figure.find('a')['href']\n",
    "    if '/art/collection/search/' in fig:\n",
    "        url = 'http://www.metmuseum.org' + fig\n",
    "        my_links.append(url)\n",
    "        print url"
   ]
  },
  {
   "cell_type": "code",
   "execution_count": null,
   "metadata": {
    "collapsed": true
   },
   "outputs": [],
   "source": [
    "soup_objs = []\n",
    "\n",
    "for i in my_links:\n",
    "    response = requests.get(i)\n",
    "    page = response.text\n",
    "    link_soup = BeautifulSoup(page)\n",
    "    soup_objs.append(link_soup)\n",
    "    \n",
    "response.status_code"
   ]
  },
  {
   "cell_type": "code",
   "execution_count": null,
   "metadata": {
    "collapsed": true
   },
   "outputs": [],
   "source": [
    "from collections import defaultdict\n",
    "\n",
    "client = MongoClient()\n",
    "db = client.paintings\n",
    "\n",
    "artwork5 = db.artwork5\n",
    "\n",
    "#soup_objects is all your links\n",
    "for i in lst: \n",
    "    for soup in soup_objs: \n",
    "        art_dict = defaultdict(list)\n",
    "        dets = soup.findAll('dt', class_='collection-details__tombstone--label')\n",
    "        for s in dets:\n",
    "            art_dict[s.text].append(s.nextSibling.nextSibling.text)\n",
    "        art_dict['title'] = soup.find('h1', class_='collection-details__object-title').encode('utf-8')\n",
    "            #art_dict['artist'] = soup.find('div',class_='collection-details__tombstone').encode('utf-8')\n",
    "        art_dict['gallery'] = soup.find('div', class_='collection-details__location').encode('utf-8')\n",
    "        art_dict['description'] = soup.find('div', class_='collection-details__label').encode('utf-8')\n",
    "        images = soup.findAll('img')\n",
    "        for i in images:\n",
    "            if 'ng-src' in str(i):\n",
    "                art_dict['image']=i.encode('utf-8')\n",
    "        artwork5.insert_one(art_dict)"
   ]
  },
  {
   "cell_type": "code",
   "execution_count": null,
   "metadata": {
    "collapsed": true
   },
   "outputs": [],
   "source": [
    "artwork5.count()"
   ]
  },
  {
   "cell_type": "code",
   "execution_count": null,
   "metadata": {
    "collapsed": true
   },
   "outputs": [],
   "source": [
    "artwork5.find_one()"
   ]
  },
  {
   "cell_type": "code",
   "execution_count": null,
   "metadata": {
    "collapsed": true
   },
   "outputs": [],
   "source": [
    "import pandas as pd\n",
    "\n",
    "df = pd.DataFrame(list(artwork5.find()))"
   ]
  },
  {
   "cell_type": "code",
   "execution_count": null,
   "metadata": {
    "collapsed": true
   },
   "outputs": [],
   "source": [
    "df.head(10)"
   ]
  },
  {
   "cell_type": "code",
   "execution_count": null,
   "metadata": {
    "collapsed": true
   },
   "outputs": [],
   "source": [
    "df_list = df.iloc[0].tolist()"
   ]
  },
  {
   "cell_type": "code",
   "execution_count": null,
   "metadata": {
    "collapsed": true
   },
   "outputs": [],
   "source": [
    "df_list"
   ]
  },
  {
   "cell_type": "code",
   "execution_count": null,
   "metadata": {
    "collapsed": true
   },
   "outputs": [],
   "source": [
    "import numpy as np\n",
    "\n",
    "df['description'] = df['description'].str.replace('<div class=\"collection-details__label\">\\n</div>', '')\n",
    "df['description'] = df['description'].str.replace('<div class=\"collection-details__label\">\\r\\n', '')\n",
    "df['description'] = df['description'].str.replace('<br/><br/>', '')\n",
    "df['description'] = df['description'].str.replace('\\r\\n    </div>', '')\n",
    "df['gallery'] = df['gallery'].str.replace('<div class=\"collection-details__location\">\\n<svg class=\"icon\">\\n<use xlink:href=\"/dist/icons.svg#ico-marker\" xmlns:xlink=\"http://www.w3.org/1999/xlink\"></use>\\n</svg>\\r\\n', '')\n",
    "df['gallery'] = df['gallery'].str.replace('\\r\\n    </div>', '')\n",
    "df['title'] = df['title'].str.replace('<h1 class=\"collection-details__object-title\">', '')\n",
    "df['title'] = df['title'].str.replace('</h1>', '')"
   ]
  },
  {
   "cell_type": "code",
   "execution_count": null,
   "metadata": {
    "collapsed": true
   },
   "outputs": [],
   "source": [
    "df_list = df.iloc[0].tolist()\n",
    "df_list"
   ]
  },
  {
   "cell_type": "code",
   "execution_count": null,
   "metadata": {
    "collapsed": true
   },
   "outputs": [],
   "source": [
    "df_list2 = df.iloc[2].tolist()\n",
    "df_list2"
   ]
  },
  {
   "cell_type": "code",
   "execution_count": null,
   "metadata": {
    "collapsed": true
   },
   "outputs": [],
   "source": [
    "df.head(2)"
   ]
  },
  {
   "cell_type": "code",
   "execution_count": null,
   "metadata": {
    "collapsed": true
   },
   "outputs": [],
   "source": [
    "df_new = df.drop(['Accession Number:', 'Credit Line:', 'Dimensions:', 'Rights and Reproduction:', '_id'], axis=1)\n",
    "df_new.head(50)"
   ]
  },
  {
   "cell_type": "code",
   "execution_count": null,
   "metadata": {
    "collapsed": true
   },
   "outputs": [],
   "source": [
    "test = df_new['Artist:'][0]\n",
    "test = str(test).split()\n",
    "for i in test:\n",
    "    if i.isdigit():\n",
    "        print i"
   ]
  },
  {
   "cell_type": "code",
   "execution_count": null,
   "metadata": {
    "collapsed": true
   },
   "outputs": [],
   "source": [
    "test = df_new['Artist:'][0]\n",
    "test = str(test).replace('[','').replace(']','').replace('(','').replace(')','')\n",
    "test=test.split()\n",
    "for i in test:\n",
    "    left=i.split('\\\\')[0]\n",
    "    right=i.split('\\\\')[0]"
   ]
  },
  {
   "cell_type": "code",
   "execution_count": null,
   "metadata": {
    "collapsed": true
   },
   "outputs": [],
   "source": [
    "df_new['Date:'].isnull().sum()"
   ]
  },
  {
   "cell_type": "code",
   "execution_count": null,
   "metadata": {
    "collapsed": true
   },
   "outputs": [],
   "source": [
    "df_new['Period:'].isnull().sum()"
   ]
  },
  {
   "cell_type": "code",
   "execution_count": null,
   "metadata": {
    "collapsed": true
   },
   "outputs": [],
   "source": [
    "df_new['Culture:'].isnull().sum()"
   ]
  },
  {
   "cell_type": "code",
   "execution_count": null,
   "metadata": {
    "collapsed": true
   },
   "outputs": [],
   "source": [
    "df_new['Geography:'].isnull().sum()"
   ]
  },
  {
   "cell_type": "code",
   "execution_count": null,
   "metadata": {
    "collapsed": true
   },
   "outputs": [],
   "source": [
    "df_new['Country:'] = df_new['Artist:'].str.extract(r\"\\(([A-Za-z]+)\\)\", expand=True)"
   ]
  },
  {
   "cell_type": "code",
   "execution_count": null,
   "metadata": {
    "collapsed": true
   },
   "outputs": [],
   "source": [
    "df_new.head()"
   ]
  },
  {
   "cell_type": "code",
   "execution_count": null,
   "metadata": {
    "collapsed": true
   },
   "outputs": [],
   "source": [
    "import pandas as pd\n",
    "print pd.show_versions()"
   ]
  }
 ],
 "metadata": {
  "kernelspec": {
   "display_name": "Python 2",
   "language": "python",
   "name": "python2"
  },
  "language_info": {
   "codemirror_mode": {
    "name": "ipython",
    "version": 2
   },
   "file_extension": ".py",
   "mimetype": "text/x-python",
   "name": "python",
   "nbconvert_exporter": "python",
   "pygments_lexer": "ipython2",
   "version": "2.7.12"
  }
 },
 "nbformat": 4,
 "nbformat_minor": 0
}
