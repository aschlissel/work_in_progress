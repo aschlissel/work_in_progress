{
 "cells": [
  {
   "cell_type": "code",
   "execution_count": null,
   "metadata": {
    "collapsed": true
   },
   "outputs": [],
   "source": [
    "from selenium import webdriver\n",
    "from bs4 import BeautifulSoup\n",
    "import time\n",
    "import requests\n",
    "import re\n",
    "import json\n",
    "from pymongo import MongoClient\n",
    "from odo import odo\n",
    "from selenium import webdriver\n",
    "from selenium.webdriver.common.keys import Keys\n",
    "import time"
   ]
  },
  {
   "cell_type": "code",
   "execution_count": null,
   "metadata": {
    "collapsed": true
   },
   "outputs": [],
   "source": [
    "with open('art_links') as f:\n",
    "    data = f.readlines()\n",
    "    data = [data.rstrip('\\n') for data in open('art_links')]\n",
    "\n",
    "data = filter(None, data)\n",
    "data = data[12000:]"
   ]
  },
  {
   "cell_type": "code",
   "execution_count": null,
   "metadata": {
    "collapsed": true
   },
   "outputs": [],
   "source": [
    "soup_objs = []\n",
    "\n",
    "for line in data:\n",
    "    response = requests.get(line)\n",
    "    page = response.text\n",
    "    link_soup = BeautifulSoup(page)\n",
    "    soup_objs.append(link_soup)\n",
    "    \n",
    "response.status_code"
   ]
  },
  {
   "cell_type": "code",
   "execution_count": null,
   "metadata": {
    "collapsed": true
   },
   "outputs": [],
   "source": [
    "from collections import defaultdict\n",
    "\n",
    "client = MongoClient()\n",
    "db = client.paintings\n",
    "\n",
    "artwork_test = db.artwork_test"
   ]
  },
  {
   "cell_type": "code",
   "execution_count": null,
   "metadata": {
    "collapsed": true
   },
   "outputs": [],
   "source": [
    "for soup in soup_objs: \n",
    "    art_dict = defaultdict(list)\n",
    "    dets = soup.findAll('dt', class_='collection-details__tombstone--label')\n",
    "    for s in dets:\n",
    "        art_dict[s.text].append(s.nextSibling.nextSibling.text)\n",
    "    art_dict['title'] = soup.find('h1', class_='collection-details__object-title').encode('utf-8')\n",
    "    #art_dict['artist'] = soup.find('div',class_='collection-details__tombstone').encode('utf-8')\n",
    "    art_dict['gallery'] = soup.find('div', class_='collection-details__location').encode('utf-8')\n",
    "    art_dict['description'] = soup.find('div', class_='collection-details__label').encode('utf-8')\n",
    "    images = soup.findAll('img')\n",
    "    for i in images:\n",
    "        if 'ng-src' in str(i):\n",
    "            art_dict['image']=i.encode('utf-8')\n",
    "    artwork_test.insert_one(art_dict)"
   ]
  },
  {
   "cell_type": "code",
   "execution_count": null,
   "metadata": {
    "collapsed": true
   },
   "outputs": [],
   "source": [
    "artwork_test.count()"
   ]
  },
  {
   "cell_type": "code",
   "execution_count": null,
   "metadata": {
    "collapsed": true
   },
   "outputs": [],
   "source": [
    "type(artwork_test)"
   ]
  },
  {
   "cell_type": "code",
   "execution_count": null,
   "metadata": {
    "collapsed": true
   },
   "outputs": [],
   "source": [
    "tmp = pd.DataFrame({'artist':[1,2,3, 4], 'genre':[4,5,6, 5]})\n",
    "tmp[tmp['artist'] == 2]['genre']\n",
    "art= list(tmp[tmp['genre'] == 5]['artist'])"
   ]
  },
  {
   "cell_type": "code",
   "execution_count": null,
   "metadata": {
    "collapsed": true
   },
   "outputs": [],
   "source": [
    "tmp[tmp['artist'] == 2]['genre']"
   ]
  },
  {
   "cell_type": "code",
   "execution_count": null,
   "metadata": {
    "collapsed": true
   },
   "outputs": [],
   "source": [
    "art= list(tmp[tmp['genre'] == 5]['artist'])"
   ]
  },
  {
   "cell_type": "code",
   "execution_count": null,
   "metadata": {
    "collapsed": true
   },
   "outputs": [],
   "source": [
    "print list(artwork_test.find())[0].keys()\n",
    "print list(artwork_test.find())[1].keys()"
   ]
  },
  {
   "cell_type": "code",
   "execution_count": null,
   "metadata": {
    "collapsed": true
   },
   "outputs": [],
   "source": [
    "import pandas as pd\n",
    "\n",
    "df = pd.DataFrame(list(artwork_test.find()))"
   ]
  },
  {
   "cell_type": "code",
   "execution_count": null,
   "metadata": {
    "collapsed": true
   },
   "outputs": [],
   "source": [
    "df.head()"
   ]
  },
  {
   "cell_type": "code",
   "execution_count": null,
   "metadata": {
    "collapsed": true
   },
   "outputs": [],
   "source": [
    "import numpy as np\n",
    "\n",
    "df['description'] = df['description'].str.replace('<div class=\"collection-details__label\">\\n</div>', '')\n",
    "df['description'] = df['description'].str.replace('<div class=\"collection-details__label\">\\r\\n', '')\n",
    "df['description'] = df['description'].str.replace('<br/><br/>', '')\n",
    "df['description'] = df['description'].str.replace('\\r\\n    </div>', '')\n",
    "df['gallery'] = df['gallery'].str.replace('<div class=\"collection-details__location\">\\n<svg class=\"icon\">\\n<use xlink:href=\"/dist/icons.svg#ico-marker\" xmlns:xlink=\"http://www.w3.org/1999/xlink\"></use>\\n</svg>\\r\\n', '')\n",
    "df['gallery'] = df['gallery'].str.replace('\\r\\n    </div>', '')\n",
    "df['title'] = df['title'].str.replace('<h1 class=\"collection-details__object-title\">', '')\n",
    "df['title'] = df['title'].str.replace('</h1>', '')\n",
    "df['title'] = df['title'].str.replace('\\r\\n<br/>', '')\n",
    "df['title'] = df['title'].str.replace('<br/>', '')\n",
    "#df['gallery'] = df['gallery'].str.replace('        On view at The Met Fifth Avenue in Gallery ', '')"
   ]
  },
  {
   "cell_type": "code",
   "execution_count": null,
   "metadata": {
    "collapsed": true
   },
   "outputs": [],
   "source": [
    "len(df)"
   ]
  },
  {
   "cell_type": "code",
   "execution_count": null,
   "metadata": {
    "collapsed": true
   },
   "outputs": [],
   "source": [
    "df.head(2)"
   ]
  },
  {
   "cell_type": "code",
   "execution_count": null,
   "metadata": {
    "collapsed": true
   },
   "outputs": [],
   "source": [
    "df = df.drop_duplicates('_id')"
   ]
  },
  {
   "cell_type": "code",
   "execution_count": null,
   "metadata": {
    "collapsed": true
   },
   "outputs": [],
   "source": [
    "len(df)"
   ]
  },
  {
   "cell_type": "code",
   "execution_count": null,
   "metadata": {
    "collapsed": true
   },
   "outputs": [],
   "source": [
    "list(df.columns.values)"
   ]
  },
  {
   "cell_type": "code",
   "execution_count": null,
   "metadata": {
    "collapsed": true
   },
   "outputs": [],
   "source": [
    "df['Date:'].isnull().sum()"
   ]
  },
  {
   "cell_type": "code",
   "execution_count": null,
   "metadata": {
    "collapsed": true
   },
   "outputs": [],
   "source": [
    "df['Date:'][:10]"
   ]
  },
  {
   "cell_type": "code",
   "execution_count": null,
   "metadata": {
    "collapsed": true
   },
   "outputs": [],
   "source": [
    "df['Geography:'].isnull().sum()"
   ]
  },
  {
   "cell_type": "code",
   "execution_count": null,
   "metadata": {
    "collapsed": true
   },
   "outputs": [],
   "source": [
    "df['Culture:'].isnull().sum()"
   ]
  },
  {
   "cell_type": "code",
   "execution_count": null,
   "metadata": {
    "collapsed": true
   },
   "outputs": [],
   "source": [
    "df['Period:'].isnull().sum()"
   ]
  },
  {
   "cell_type": "code",
   "execution_count": null,
   "metadata": {
    "collapsed": true
   },
   "outputs": [],
   "source": [
    "df.to_csv('my_df_1.csv', sep='\\t', encoding='utf-8')"
   ]
  },
  {
   "cell_type": "code",
   "execution_count": null,
   "metadata": {
    "collapsed": true
   },
   "outputs": [],
   "source": [
    "import nltk\n",
    "nltk.download('maxent_treebank_pos_tagger')"
   ]
  },
  {
   "cell_type": "code",
   "execution_count": null,
   "metadata": {
    "collapsed": true
   },
   "outputs": [],
   "source": [
    "nltk.download('punkt')"
   ]
  },
  {
   "cell_type": "code",
   "execution_count": null,
   "metadata": {
    "collapsed": true
   },
   "outputs": [],
   "source": [
    "nltk.download('words')"
   ]
  },
  {
   "cell_type": "code",
   "execution_count": null,
   "metadata": {
    "collapsed": true
   },
   "outputs": [],
   "source": [
    "from nltk.tokenize import sent_tokenize\n",
    "sentences = [sent_tokenize(x.lower()) for x in df['description']]\n",
    "print sentences[0]"
   ]
  },
  {
   "cell_type": "code",
   "execution_count": null,
   "metadata": {
    "collapsed": true
   },
   "outputs": [],
   "source": [
    "from nltk.tokenize import word_tokenize\n",
    "\n",
    "words = [word_tokenize(x) for x in df['description']]\n",
    "print words[0]"
   ]
  },
  {
   "cell_type": "code",
   "execution_count": null,
   "metadata": {
    "collapsed": true
   },
   "outputs": [],
   "source": [
    "nltk.download()"
   ]
  },
  {
   "cell_type": "code",
   "execution_count": null,
   "metadata": {
    "collapsed": true
   },
   "outputs": [],
   "source": [
    "from nltk.tag import pos_tag\n",
    "word_tags = word_tokenize(df['description'].str.lower()[0])\n",
    "pos_tag(word_tags)"
   ]
  },
  {
   "cell_type": "code",
   "execution_count": null,
   "metadata": {
    "collapsed": true
   },
   "outputs": [],
   "source": [
    "!pip install textblob"
   ]
  },
  {
   "cell_type": "code",
   "execution_count": null,
   "metadata": {
    "collapsed": true
   },
   "outputs": [],
   "source": [
    "from textblob import TextBlob"
   ]
  },
  {
   "cell_type": "code",
   "execution_count": null,
   "metadata": {
    "collapsed": true
   },
   "outputs": [],
   "source": [
    "blob = [TextBlob(x) for x in (df['description'])]\n",
    "blob[10]"
   ]
  },
  {
   "cell_type": "code",
   "execution_count": null,
   "metadata": {
    "collapsed": true
   },
   "outputs": [],
   "source": [
    "blob[10].sentiment"
   ]
  },
  {
   "cell_type": "code",
   "execution_count": null,
   "metadata": {
    "collapsed": true
   },
   "outputs": [],
   "source": [
    "stemmer = nltk.stem.porter.PorterStemmer()\n",
    "\n",
    "for word in blob[0].words:\n",
    "    print stemmer.stem(word)"
   ]
  },
  {
   "cell_type": "code",
   "execution_count": null,
   "metadata": {
    "collapsed": true
   },
   "outputs": [],
   "source": [
    "from sklearn.feature_extraction.text import CountVectorizer"
   ]
  },
  {
   "cell_type": "code",
   "execution_count": null,
   "metadata": {
    "collapsed": true
   },
   "outputs": [],
   "source": [
    "df_lower = [i.lower() for i in df['description']]"
   ]
  },
  {
   "cell_type": "code",
   "execution_count": null,
   "metadata": {
    "collapsed": true
   },
   "outputs": [],
   "source": [
    "vectorizer = CountVectorizer(stop_words='english')\n",
    "count_vect = vectorizer.fit_transform([i for i in df['description']])\n",
    "#count_vect = vectorizer.fit_transform(df_lower)\n",
    "count_vect"
   ]
  },
  {
   "cell_type": "code",
   "execution_count": null,
   "metadata": {
    "collapsed": true
   },
   "outputs": [],
   "source": [
    "count_vect[:100].toarray()"
   ]
  },
  {
   "cell_type": "code",
   "execution_count": null,
   "metadata": {
    "collapsed": true
   },
   "outputs": [],
   "source": [
    "bigram_vectorizer = CountVectorizer(stop_words= 'english', ngram_range=(2,2),min_df=1)\n",
    "bigram_vectorizer.fit_transform(df_lower[:100]).toarray()"
   ]
  },
  {
   "cell_type": "code",
   "execution_count": null,
   "metadata": {
    "collapsed": true
   },
   "outputs": [],
   "source": [
    "bigram_vectorizer.get_feature_names()[200:210]"
   ]
  },
  {
   "cell_type": "code",
   "execution_count": null,
   "metadata": {
    "collapsed": true
   },
   "outputs": [],
   "source": [
    "from sklearn.feature_extraction.text import TfidfVectorizer\n",
    "tfidf_vect = TfidfVectorizer()\n",
    "tfidf_vect.fit_transform([i for i in df_lower[:100]]).toarray()"
   ]
  },
  {
   "cell_type": "code",
   "execution_count": null,
   "metadata": {
    "collapsed": true
   },
   "outputs": [],
   "source": [
    "from sklearn.metrics.pairwise import cosine_distances\n",
    "\n",
    "#text = ['hi mike', 'hi hi hi mike mike mike']\n",
    "#X = vectorizer.fit_transform(text)\n",
    "\n",
    "#print cosine_distances(X[0], X[1])\n",
    "\n",
    "#print cosine_distances()\n",
    "print cosine_distances(count_vect[2000], count_vect[80])"
   ]
  },
  {
   "cell_type": "code",
   "execution_count": null,
   "metadata": {
    "collapsed": true
   },
   "outputs": [],
   "source": [
    "count_vect[50]"
   ]
  },
  {
   "cell_type": "code",
   "execution_count": null,
   "metadata": {
    "collapsed": true
   },
   "outputs": [],
   "source": [
    "df_description = df.drop_duplicates('description')\n",
    "df_description = df_description[['title', 'description']]\n",
    "df_description.head(5)"
   ]
  },
  {
   "cell_type": "code",
   "execution_count": null,
   "metadata": {
    "collapsed": true
   },
   "outputs": [],
   "source": [
    "len(df_description)"
   ]
  },
  {
   "cell_type": "code",
   "execution_count": null,
   "metadata": {
    "collapsed": true
   },
   "outputs": [],
   "source": [
    "title = [i for i in df_description['title']]\n",
    "print title[:5]"
   ]
  },
  {
   "cell_type": "code",
   "execution_count": null,
   "metadata": {
    "collapsed": true
   },
   "outputs": [],
   "source": [
    "vectorizer = CountVectorizer(stop_words='english')\n",
    "desc_count_vect = vectorizer.fit_transform([i for i in df_description['description']])"
   ]
  },
  {
   "cell_type": "code",
   "execution_count": null,
   "metadata": {
    "collapsed": true
   },
   "outputs": [],
   "source": [
    "from sklearn.metrics.pairwise import cosine_distances\n",
    "cosine_distances(desc_count_vect)\n",
    "arr = cosine_distances(desc_count_vect)"
   ]
  },
  {
   "cell_type": "code",
   "execution_count": null,
   "metadata": {
    "collapsed": true
   },
   "outputs": [],
   "source": [
    "type(arr)"
   ]
  },
  {
   "cell_type": "code",
   "execution_count": null,
   "metadata": {
    "collapsed": true
   },
   "outputs": [],
   "source": [
    "cos_dist = pd.DataFrame(arr.T, columns=title)\n",
    "cos_dist.head(50)"
   ]
  },
  {
   "cell_type": "code",
   "execution_count": null,
   "metadata": {
    "collapsed": true
   },
   "outputs": [],
   "source": [
    "se = pd.Series(title)\n",
    "cos_dist['title'] = se.values\n",
    "cos_dist.head()"
   ]
  },
  {
   "cell_type": "code",
   "execution_count": null,
   "metadata": {
    "collapsed": true
   },
   "outputs": [],
   "source": [
    "cos_dist = cos_dist.set_index('title')"
   ]
  },
  {
   "cell_type": "code",
   "execution_count": null,
   "metadata": {
    "collapsed": true
   },
   "outputs": [],
   "source": [
    "#similar\n",
    "cos_dist.ix[\"The Dance Class\", \"The Dancing Class\"]"
   ]
  },
  {
   "cell_type": "code",
   "execution_count": null,
   "metadata": {
    "collapsed": true
   },
   "outputs": [],
   "source": [
    "#different\n",
    "cos_dist.ix['Seated Harlequin', 'Young Girl Bathing']"
   ]
  },
  {
   "cell_type": "code",
   "execution_count": null,
   "metadata": {
    "collapsed": true
   },
   "outputs": [],
   "source": [
    "#different\n",
    "cos_dist.ix['Charles Suisse', 'Before and After I']"
   ]
  },
  {
   "cell_type": "code",
   "execution_count": null,
   "metadata": {
    "collapsed": true
   },
   "outputs": [],
   "source": [
    "#similar\n",
    "cos_dist.ix['No. 3', 'No. 21']"
   ]
  },
  {
   "cell_type": "code",
   "execution_count": null,
   "metadata": {
    "collapsed": true
   },
   "outputs": [],
   "source": [
    "vectorizer_nostop = CountVectorizer()\n",
    "desc_count_vect_nostop = vectorizer_nostop.fit_transform([i for i in df_description['description']])\n",
    "cosine_distances(desc_count_vect_nostop)"
   ]
  },
  {
   "cell_type": "code",
   "execution_count": null,
   "metadata": {
    "collapsed": true
   },
   "outputs": [],
   "source": [
    "arr_nostop = cosine_distances(desc_count_vect_nostop)\n",
    "cos_dist_nostop = pd.DataFrame(arr_nostop.T, columns=title)\n",
    "se = pd.Series(title)\n",
    "cos_dist_nostop['title'] = se.values\n",
    "cos_dist_nostop.head()"
   ]
  },
  {
   "cell_type": "code",
   "execution_count": null,
   "metadata": {
    "collapsed": true
   },
   "outputs": [],
   "source": [
    "cos_dist_nostop = cos_dist_nostop.set_index('title')"
   ]
  },
  {
   "cell_type": "code",
   "execution_count": null,
   "metadata": {
    "collapsed": true
   },
   "outputs": [],
   "source": [
    "#similar\n",
    "cos_dist_nostop.ix[\"The Dance Class\", \"The Dancing Class\"]"
   ]
  },
  {
   "cell_type": "code",
   "execution_count": null,
   "metadata": {
    "collapsed": true
   },
   "outputs": [],
   "source": [
    "#different\n",
    "cos_dist_nostop.ix['Seated Harlequin', 'Young Girl Bathing']"
   ]
  },
  {
   "cell_type": "code",
   "execution_count": null,
   "metadata": {
    "collapsed": true
   },
   "outputs": [],
   "source": [
    "#different\n",
    "cos_dist_nostop.ix['Charles Suisse', 'Before and After I']"
   ]
  },
  {
   "cell_type": "code",
   "execution_count": null,
   "metadata": {
    "collapsed": true
   },
   "outputs": [],
   "source": [
    "#similar\n",
    "cos_dist_nostop.ix['No. 3', 'No. 21']"
   ]
  },
  {
   "cell_type": "code",
   "execution_count": null,
   "metadata": {
    "collapsed": true
   },
   "outputs": [],
   "source": [
    "tfidf_vect = TfidfVectorizer(stop_words='english')\n",
    "tfidf_vect = tfidf_vect.fit_transform([i for i in df_description['description']])\n",
    "tfidf_dist = cosine_distances(tfidf_vect)"
   ]
  },
  {
   "cell_type": "code",
   "execution_count": null,
   "metadata": {
    "collapsed": true
   },
   "outputs": [],
   "source": [
    "arr_tfidf = tfidf_dist\n",
    "cos_dist_tfidf = pd.DataFrame(arr_tfidf.T, columns=title)\n",
    "se = pd.Series(title)\n",
    "cos_dist_tfidf['title'] = se.values"
   ]
  },
  {
   "cell_type": "code",
   "execution_count": null,
   "metadata": {
    "collapsed": true
   },
   "outputs": [],
   "source": [
    "cos_dist_tfidf = cos_dist_tfidf.set_index('title')\n",
    "cos_dist_tfidf.head()"
   ]
  },
  {
   "cell_type": "code",
   "execution_count": null,
   "metadata": {
    "collapsed": true
   },
   "outputs": [],
   "source": [
    "#similar\n",
    "cos_dist_tfidf.ix[\"The Dance Class\", \"The Dancing Class\"]"
   ]
  },
  {
   "cell_type": "code",
   "execution_count": null,
   "metadata": {
    "collapsed": true
   },
   "outputs": [],
   "source": [
    "#different\n",
    "cos_dist_tfidf.ix['Seated Harlequin', 'Young Girl Bathing']"
   ]
  },
  {
   "cell_type": "code",
   "execution_count": null,
   "metadata": {
    "collapsed": true
   },
   "outputs": [],
   "source": [
    "#different\n",
    "cos_dist_tfidf.ix['Charles Suisse', 'Before and After I']"
   ]
  },
  {
   "cell_type": "code",
   "execution_count": null,
   "metadata": {
    "collapsed": true
   },
   "outputs": [],
   "source": [
    "#similar\n",
    "cos_dist_tfidf.ix['No. 3', 'No. 21']"
   ]
  },
  {
   "cell_type": "code",
   "execution_count": null,
   "metadata": {
    "collapsed": true
   },
   "outputs": [],
   "source": [
    "len(cos_dist_tfidf)"
   ]
  },
  {
   "cell_type": "code",
   "execution_count": null,
   "metadata": {
    "collapsed": true
   },
   "outputs": [],
   "source": [
    "artists = pd.read_csv('artists.csv')\n",
    "artists['Unnamed: 1'].replace(np.nan, '?', inplace=True)"
   ]
  },
  {
   "cell_type": "code",
   "execution_count": null,
   "metadata": {
    "collapsed": true
   },
   "outputs": [],
   "source": [
    "artists = pd.read_csv('artists.csv')\n",
    "artists['Unnamed: 1'].replace(np.nan, '?', inplace=True)"
   ]
  },
  {
   "cell_type": "code",
   "execution_count": null,
   "metadata": {
    "collapsed": true
   },
   "outputs": [],
   "source": [
    "artists.columns"
   ]
  },
  {
   "cell_type": "code",
   "execution_count": null,
   "metadata": {
    "collapsed": true
   },
   "outputs": [],
   "source": [
    "artist_list = artists['Unnamed: 1'].tolist()"
   ]
  },
  {
   "cell_type": "code",
   "execution_count": null,
   "metadata": {
    "collapsed": true
   },
   "outputs": [],
   "source": [
    "strings = ';'.join(artist_list)"
   ]
  },
  {
   "cell_type": "code",
   "execution_count": null,
   "metadata": {
    "collapsed": true
   },
   "outputs": [],
   "source": [
    "strings.split('?')"
   ]
  },
  {
   "cell_type": "code",
   "execution_count": null,
   "metadata": {
    "collapsed": true
   },
   "outputs": [],
   "source": [
    "split_cats = [category.split(';') for category in strings.split('?')]\n",
    "split_cats = [ [e for e in cat if e] for cat in split_cats]\n",
    "split_cats = [c for c in split_cats if c]\n",
    "split_cats"
   ]
  },
  {
   "cell_type": "code",
   "execution_count": null,
   "metadata": {
    "collapsed": true
   },
   "outputs": [],
   "source": [
    "artist_dict = {cat[0].replace(':',''): cat[1:] for cat in split_cats}"
   ]
  },
  {
   "cell_type": "code",
   "execution_count": null,
   "metadata": {
    "collapsed": true
   },
   "outputs": [],
   "source": [
    "split_cats[1][0]"
   ]
  },
  {
   "cell_type": "code",
   "execution_count": null,
   "metadata": {
    "collapsed": true
   },
   "outputs": [],
   "source": [
    "len(artist_dict)"
   ]
  },
  {
   "cell_type": "code",
   "execution_count": null,
   "metadata": {
    "collapsed": true
   },
   "outputs": [],
   "source": [
    "artist_dict.keys()"
   ]
  },
  {
   "cell_type": "code",
   "execution_count": null,
   "metadata": {
    "collapsed": true
   },
   "outputs": [],
   "source": [
    "movement_artist = pd.DataFrame(artist_dict.items())\n",
    "movement_artist.columns = ['movement', 'artist_move']\n",
    "movement_artist.head()"
   ]
  },
  {
   "cell_type": "code",
   "execution_count": null,
   "metadata": {
    "collapsed": true
   },
   "outputs": [],
   "source": [
    "move_art = movement_artist.groupby('movement').artist_move.apply(lambda x: pd.DataFrame(x.values[0])).reset_index().drop('level_1', axis = 1)"
   ]
  },
  {
   "cell_type": "code",
   "execution_count": null,
   "metadata": {
    "collapsed": true
   },
   "outputs": [],
   "source": [
    "move_art.columns = ['movement', 'artist_name']\n",
    "move_art.head()"
   ]
  },
  {
   "cell_type": "code",
   "execution_count": null,
   "metadata": {
    "collapsed": true
   },
   "outputs": [],
   "source": [
    "art = list(tmp[tmp['genre'] == 5]['artist'])"
   ]
  },
  {
   "cell_type": "code",
   "execution_count": null,
   "metadata": {
    "collapsed": true
   },
   "outputs": [],
   "source": [
    "move_art[move_art['movement'] == 'Taisho Period']"
   ]
  },
  {
   "cell_type": "code",
   "execution_count": null,
   "metadata": {
    "collapsed": true
   },
   "outputs": [],
   "source": [
    "painting_lookup_temp = dict(df_description['title'])\n",
    "len(painting_lookup_temp)"
   ]
  },
  {
   "cell_type": "code",
   "execution_count": null,
   "metadata": {
    "collapsed": true
   },
   "outputs": [],
   "source": [
    "painting_lookup = {}\n",
    "for k, v in painting_lookup_temp.items():\n",
    "    painting_lookup[v] = k\n",
    "\n",
    "painting_lookup"
   ]
  },
  {
   "cell_type": "code",
   "execution_count": null,
   "metadata": {
    "collapsed": true
   },
   "outputs": [],
   "source": [
    "import operator\n",
    "\n",
    "def recommended_paintings(painting):\n",
    "    new_df = cos_dist_tfidf[painting]\n",
    "    #print new_df\n",
    "    tups = new_df.iteritems()\n",
    "    tups = list(tups)\n",
    "    tups.sort(key=lambda x: x[1])\n",
    "    return tups[1:6]"
   ]
  },
  {
   "cell_type": "code",
   "execution_count": null,
   "metadata": {
    "collapsed": true
   },
   "outputs": [],
   "source": [
    "recommended_paintings('Seated Four-Armed Ganesha')"
   ]
  },
  {
   "cell_type": "code",
   "execution_count": null,
   "metadata": {
    "collapsed": true
   },
   "outputs": [],
   "source": [
    "recommended_paintings('Still Life: Flowers and Fruit')"
   ]
  },
  {
   "cell_type": "code",
   "execution_count": null,
   "metadata": {
    "collapsed": true
   },
   "outputs": [],
   "source": [
    "recommended_paintings('The Businessman Max Roesberg, Dresden')"
   ]
  },
  {
   "cell_type": "code",
   "execution_count": null,
   "metadata": {
    "collapsed": true
   },
   "outputs": [],
   "source": [
    "recommended_paintings('The Dance Class')"
   ]
  },
  {
   "cell_type": "code",
   "execution_count": null,
   "metadata": {
    "collapsed": true
   },
   "outputs": [],
   "source": [
    "recommended_paintings('Washington Crossing the Delaware')"
   ]
  },
  {
   "cell_type": "code",
   "execution_count": null,
   "metadata": {
    "collapsed": true
   },
   "outputs": [],
   "source": [
    "recommended_paintings('Portia')"
   ]
  },
  {
   "cell_type": "code",
   "execution_count": null,
   "metadata": {
    "collapsed": true
   },
   "outputs": [],
   "source": [
    "def gallery_number(painting):\n",
    "    pd.options.display.max_colwidth = 100\n",
    "    row = df.loc[df['title'] == painting]\n",
    "    gallery = row['gallery']\n",
    "    if gallery.str.contains('Not on view').any():\n",
    "        return None\n",
    "    else:\n",
    "        return str(gallery)"
   ]
  },
  {
   "cell_type": "code",
   "execution_count": null,
   "metadata": {
    "collapsed": true
   },
   "outputs": [],
   "source": [
    "gallery_number('Seated Four-Armed Ganesha')"
   ]
  },
  {
   "cell_type": "code",
   "execution_count": null,
   "metadata": {
    "collapsed": true
   },
   "outputs": [],
   "source": [
    "gallery_number('Mademoiselle Marie Dihau')"
   ]
  },
  {
   "cell_type": "code",
   "execution_count": null,
   "metadata": {
    "collapsed": true
   },
   "outputs": [],
   "source": [
    "medieval = open('medieval.txt').read().splitlines()\n",
    "proto_renaissance = open('proto_renaissance.txt').read().splitlines()\n",
    "early_renaissance = open('early_renaissance.txt').read().splitlines()\n",
    "high_renaissance = open('high_renaissance.txt').read().splitlines()\n",
    "mannerism = open('mannerism.txt').read().splitlines()\n",
    "northern_renaissance = open('northern_renaissance.txt').read().splitlines()\n",
    "baroque = open('baroque.txt').read().splitlines()\n",
    "rococo = open('rococo.txt').read().splitlines()\n",
    "neoclassical = open('neoclassical.txt').read().splitlines()\n",
    "academic_art = open('academic_art.txt').read().splitlines()\n",
    "romanticism = open('romanticism.txt').read().splitlines()\n",
    "realism = open('realism.txt').read().splitlines()\n",
    "naturalism = open('naturalism.txt').read().splitlines()\n",
    "naive_primitivism = open('naive_primitivism.txt').read().splitlines()\n",
    "symbolism = open('symbolism.txt').read().splitlines()\n",
    "aestheticism = open('aestheticism.txt').read().splitlines()\n",
    "tonalism = open('tonalism.txt').read().splitlines()\n",
    "impressionism = open('impressionism.txt').read().splitlines()\n",
    "post_impressionism = open('post_impressionism.txt').read().splitlines()\n",
    "art_neauvau = open('art_neauvau.txt').read().splitlines()\n",
    "pictoralism = open('pictoralism.txt').read().splitlines()\n",
    "expressionism = open('expressionism.txt').read().splitlines()\n",
    "neo_romananticism = open('new_romanticism.txt').read().splitlines()\n",
    "cubism = open('cubism.txt').read().splitlines()\n",
    "abstract_art = open('abstract_art.txt').read().splitlines()\n",
    "futurism = open('futurism.txt').read().splitlines()\n",
    "dada = open('dada.txt').read().splitlines()\n",
    "constructivism = open('constructivism.txt').read().splitlines()\n",
    "modernismo = open('modernismo.txt').read().splitlines()\n",
    "concretism = open('concretism.txt').read().splitlines()\n",
    "social_realism = open('social_realism.txt').read().splitlines()\n",
    "surrealism = open('surrealism.txt').read().splitlines()\n",
    "magic_realism = open('magic_realism.txt').read().splitlines()\n",
    "art_deco = open('art_deco.txt').read().splitlines()\n",
    "abstract_expressionism = open('abstract_expressionism.txt').read().splitlines()\n",
    "art_informel = open('art_informel.txt').read().splitlines()\n",
    "tachisme = open('tachisme.txt').read().splitlines()\n",
    "post_painterly_abstraction = open('post_painterly_abstraction.txt').read().splitlines()\n",
    "feminist_art = open('feminist_art.txt').read().splitlines()\n",
    "outsider_art = open('outsider_art.txt').read().splitlines()\n",
    "neo_expressionism = open('neo_expressionism.txt').read().splitlines()\n",
    "neo_dada = open('neo_dada.txt').read().splitlines()\n",
    "kinetic_art = open('kinetic_art.txt').read().splitlines()\n",
    "arte_povera = open('arte_povera.txt').read().splitlines()\n",
    "op_art = open('op_art.txt').read().splitlines()\n",
    "pop_art = open('pop_art.txt').read().splitlines()\n",
    "contemporary = open('contemporary.txt').read().splitlines()\n",
    "minimalism = open('minimalism.txt').read().splitlines()\n",
    "chinese_art = open('chinese_art.txt').read().splitlines()\n",
    "edo_period = open('edo_period.txt').read().splitlines()\n",
    "meiji_period = open('meiji_period.txt').read().splitlines()\n",
    "taisho_period = open('taisho_period.txt').read().splitlines()\n",
    "showa_period = open('showa_period.txt').read().splitlines()\n",
    "islamic_art = open('islamic_art.txt').read().splitlines()"
   ]
  },
  {
   "cell_type": "code",
   "execution_count": null,
   "metadata": {
    "collapsed": true
   },
   "outputs": [],
   "source": [
    "def handle_row(x):\n",
    "    if x=='nan':\n",
    "        return ''\n",
    "    else:\n",
    "        try:\n",
    "            tmp = ''.join(eval(x))\n",
    "        except:\n",
    "            print x\n",
    "            return ''\n",
    "        return tmp\n",
    "handle_row(df['artist_name'].values[0])\n",
    "\n",
    "df['artist_name'] = map(handle_row, df['artist_name'].values)"
   ]
  },
  {
   "cell_type": "code",
   "execution_count": null,
   "metadata": {
    "collapsed": true
   },
   "outputs": [],
   "source": [
    "df_movement = pd.merge(df, move_art, on='artist_name', how='inner')\n",
    "df_movement = df_movement.drop_duplicates('description')"
   ]
  },
  {
   "cell_type": "code",
   "execution_count": null,
   "metadata": {
    "collapsed": true
   },
   "outputs": [],
   "source": [
    "df_movement[100:150]"
   ]
  },
  {
   "cell_type": "code",
   "execution_count": null,
   "metadata": {
    "collapsed": true
   },
   "outputs": [],
   "source": [
    "df_movement[df_movement['movement'] == 'Impressionism'][200:]"
   ]
  },
  {
   "cell_type": "code",
   "execution_count": null,
   "metadata": {
    "collapsed": true
   },
   "outputs": [],
   "source": [
    "len(df_movement)"
   ]
  },
  {
   "cell_type": "code",
   "execution_count": null,
   "metadata": {
    "collapsed": true
   },
   "outputs": [],
   "source": [
    "def filter_df(painting):\n",
    "    try:\n",
    "        row = df_movement.loc[df_movement['title'] == painting]\n",
    "        move = row['movement']\n",
    "        df_select = df_movement[df_movement.movement.isin(move)]\n",
    "        df_select = cos_dist_tfidf[painting]\n",
    "        tups = df_select.iteritems()\n",
    "        tups = list(tups)\n",
    "        tups.sort(key=lambda x: x[1])\n",
    "        return tups[1:6]\n",
    "    except:\n",
    "        recommended_paintings(painting)"
   ]
  },
  {
   "cell_type": "code",
   "execution_count": null,
   "metadata": {
    "collapsed": true
   },
   "outputs": [],
   "source": [
    "filter_df('Mr. and Mrs. I. N. Phelps Stokes')"
   ]
  }
 ],
 "metadata": {
  "kernelspec": {
   "display_name": "Python 2",
   "language": "python",
   "name": "python2"
  },
  "language_info": {
   "codemirror_mode": {
    "name": "ipython",
    "version": 2
   },
   "file_extension": ".py",
   "mimetype": "text/x-python",
   "name": "python",
   "nbconvert_exporter": "python",
   "pygments_lexer": "ipython2",
   "version": "2.7.12"
  }
 },
 "nbformat": 4,
 "nbformat_minor": 0
}
