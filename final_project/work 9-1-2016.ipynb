{
 "cells": [
  {
   "cell_type": "code",
   "execution_count": null,
   "metadata": {
    "collapsed": true
   },
   "outputs": [],
   "source": [
    "from selenium import webdriver\n",
    "from bs4 import BeautifulSoup\n",
    "import time\n",
    "import requests\n",
    "import re\n",
    "import json\n",
    "from pymongo import MongoClient\n",
    "from odo import odo"
   ]
  },
  {
   "cell_type": "code",
   "execution_count": null,
   "metadata": {
    "collapsed": true
   },
   "outputs": [],
   "source": [
    "from selenium import webdriver\n",
    "from selenium.webdriver.common.keys import Keys\n",
    "import time\n",
    "\n",
    "#import os\n",
    "#chromedriver = \"/home/allisonschlissel/notebooks/chromedriver\"\n",
    "#os.environ[\"webdriver.chrome.driver\"] = chromedriver\n",
    "\n",
    "\n",
    "\n",
    "#driver = webdriver.Chrome(chromedriver)\n",
    "#driver.get(\"https://mail.google.com\")"
   ]
  },
  {
   "cell_type": "code",
   "execution_count": null,
   "metadata": {
    "collapsed": true
   },
   "outputs": [],
   "source": [
    "lst = ['http://www.metmuseum.org/art/collection#!?material=Paintings&showOnly=withImage&offset=' + str(x) + '&pageSize=0&sortBy=Relevance&sortOrder=asc&perPage=20' for x in range(0, 12017, 20)]\n",
    "for i in lst:\n",
    "    print i"
   ]
  },
  {
   "cell_type": "code",
   "execution_count": null,
   "metadata": {
    "collapsed": true
   },
   "outputs": [],
   "source": [
    "my_links = []\n",
    "\n",
    "soup = BeautifulSoup(html, 'html.parser')\n",
    "\n",
    "for figure in soup.find_all('figure',class_=\"card__standard-image\"):\n",
    "    fig = figure.find('a')['href']\n",
    "    if '/art/collection/search/' in fig:\n",
    "        url = 'http://www.metmuseum.org' + fig\n",
    "        my_links.append(url)\n",
    "        print url"
   ]
  },
  {
   "cell_type": "code",
   "execution_count": null,
   "metadata": {
    "collapsed": true
   },
   "outputs": [],
   "source": [
    "soup_objs = []\n",
    "\n",
    "for i in my_links:\n",
    "    response = requests.get(i)\n",
    "    page = response.text\n",
    "    link_soup = BeautifulSoup(page)\n",
    "    soup_objs.append(link_soup)\n",
    "    \n",
    "response.status_code"
   ]
  },
  {
   "cell_type": "code",
   "execution_count": null,
   "metadata": {
    "collapsed": true
   },
   "outputs": [],
   "source": [
    "for soup in soup_objs:\n",
    "    title = soup.find('h1', class_='collection-details__object-title')\n",
    "    artist = soup.find('div',class_='collection-details__tombstone')\n",
    "    gallery = soup.find('div', class_='collection-details__location')\n",
    "    description = soup.find('div', class_='collection-details__label')\n",
    "    #image = soup.findAll('img')[1]\n",
    "    images = soup.findAll('img')\n",
    "    #artist_test = soup.findAll('dd')[0]\n",
    "    #date = soup.findAll('dd')[1]\n",
    "    #medium = soup.findAll('dd')[2]\n",
    "    \n",
    "    \n",
    "\n",
    "    #print 'Title: ' + title.text\n",
    "    #print artist.text\n",
    "    #print 'Gallery: ' + gallery.text\n",
    "    #print 'Description: ' + description.text\n",
    "    #print 'Image: '\n",
    "    for i in images:\n",
    "       if 'ng-src' in str(i):\n",
    "           print i\n",
    "\n",
    "    #print image\n",
    "    #print date\n",
    "    #print artist_test\n",
    "    #print medium"
   ]
  },
  {
   "cell_type": "code",
   "execution_count": null,
   "metadata": {
    "collapsed": true
   },
   "outputs": [],
   "source": [
    "for soup in soup_objs:\n",
    "    art_dict = {}\n",
    "    art_dict['title'] = soup.find('h1', class_='collection-details__object-title')\n",
    "    art_dict['artist'] = soup.find('div',class_='collection-details__tombstone')\n",
    "    art_dict['gallery'] = soup.find('div', class_='collection-details__location')\n",
    "    art_dict['description'] = soup.find('div', class_='collection-details__label')\n",
    "    art_dict['image'] = soup.findAll('img')[1]\n",
    "    artwork.insert_one(art_dict)\n",
    "    "
   ]
  },
  {
   "cell_type": "code",
   "execution_count": null,
   "metadata": {
    "collapsed": true
   },
   "outputs": [],
   "source": [
    "client = MongoClient()\n",
    "db = client.paintings\n",
    "\n",
    "artwork3 = db.artwork3\n",
    "\n",
    "#soup_objects is all your links\n",
    "for i in lst: \n",
    "    for soup in soup_objs: \n",
    "        art_dict = defaultdict(list)\n",
    "        dets = soup.findAll('dt', class_='collection-details__tombstone--label')\n",
    "        for s in dets:\n",
    "            art_dict[s.text].append(s.nextSibling.nextSibling.text)\n",
    "        art_dict['title'] = soup.find('h1', class_='collection-details__object-title').encode('utf-8')\n",
    "            #art_dict['artist'] = soup.find('div',class_='collection-details__tombstone').encode('utf-8')\n",
    "        art_dict['gallery'] = soup.find('div', class_='collection-details__location').encode('utf-8')\n",
    "        art_dict['description'] = soup.find('div', class_='collection-details__label').encode('utf-8')\n",
    "        images = soup.findAll('img')\n",
    "        for i in images:\n",
    "            if 'ng-src' in str(i):\n",
    "                art_dict['image']=i.encode('utf-8')\n",
    "        artwork3.insert_one(art_dict)"
   ]
  },
  {
   "cell_type": "code",
   "execution_count": null,
   "metadata": {
    "collapsed": true
   },
   "outputs": [],
   "source": [
    "artwork3.count()"
   ]
  },
  {
   "cell_type": "code",
   "execution_count": null,
   "metadata": {
    "collapsed": true
   },
   "outputs": [],
   "source": [
    "artwork3.find_one()"
   ]
  },
  {
   "cell_type": "code",
   "execution_count": null,
   "metadata": {
    "collapsed": true
   },
   "outputs": [],
   "source": [
    "import pandas as pd\n",
    "\n",
    "df = pd.DataFrame(list(artwork3.find()))"
   ]
  },
  {
   "cell_type": "code",
   "execution_count": null,
   "metadata": {
    "collapsed": true
   },
   "outputs": [],
   "source": [
    "df.head()"
   ]
  },
  {
   "cell_type": "code",
   "execution_count": null,
   "metadata": {
    "collapsed": true
   },
   "outputs": [],
   "source": [
    "response = requests.get(test)\n",
    "page = response.text\n",
    "soup = BeautifulSoup(page)"
   ]
  },
  {
   "cell_type": "code",
   "execution_count": null,
   "metadata": {
    "collapsed": true
   },
   "outputs": [],
   "source": [
    "print art_dict"
   ]
  },
  {
   "cell_type": "code",
   "execution_count": null,
   "metadata": {
    "collapsed": true
   },
   "outputs": [],
   "source": [
    "#julia's notes\n",
    "\n",
    "from collections import defaultdict\n",
    "\n",
    "soup_objs = []\n",
    "\n",
    "# replace my_links for test\n",
    "for i in test:"
   ]
  },
  {
   "cell_type": "code",
   "execution_count": null,
   "metadata": {
    "collapsed": true
   },
   "outputs": [],
   "source": [
    "dets = soup_objs.findAll('dt', class_='collection-details__tombstone--label')"
   ]
  },
  {
   "cell_type": "code",
   "execution_count": null,
   "metadata": {
    "collapsed": true
   },
   "outputs": [],
   "source": [
    "artwork.count()"
   ]
  },
  {
   "cell_type": "code",
   "execution_count": null,
   "metadata": {
    "collapsed": true
   },
   "outputs": [],
   "source": [
    "artwork.find_one()"
   ]
  },
  {
   "cell_type": "code",
   "execution_count": null,
   "metadata": {
    "collapsed": true
   },
   "outputs": [],
   "source": [
    "db.artwork.find().limit(20)"
   ]
  },
  {
   "cell_type": "code",
   "execution_count": null,
   "metadata": {
    "collapsed": true
   },
   "outputs": [],
   "source": [
    "def get_links(html):\n",
    "    my_links = []\n",
    "\n",
    "    soup = BeautifulSoup(html, 'html.parser')\n",
    "\n",
    "    for figure in soup.find_all('figure',class_=\"card__standard-image\"):\n",
    "        fig = figure.find('a')['href']\n",
    "        if '/art/collection/search/' in fig:\n",
    "            url = 'http://www.metmuseum.org' + fig\n",
    "            my_links.append(url)\n",
    "    return my_links\n",
    "\n",
    "def get_soup_obj(my_links):\n",
    "    soup_objs = []\n",
    "\n",
    "    for i in my_links:\n",
    "        response = requests.get(i)\n",
    "        page = response.text\n",
    "        link_soup = BeautifulSoup(page)\n",
    "        soup_objs.append(link_soup)\n",
    "    return soup_objs\n",
    "    \n",
    "\n",
    "def get_data(soup_objs):\n",
    "    #_title = []\n",
    "    #art = []\n",
    "    #gall = []\n",
    "    #desc = []\n",
    "    #img = []\n",
    "    for soup in soup_objs:\n",
    "        art_dict = {}\n",
    "        art_dict['title'] = soup.find('h1', class_='collection-details__object-title')\n",
    "        art_dict['artist'] = soup.find('div',class_='collection-details__tombstone')\n",
    "        art_dict['gallery'] = soup.find('div', class_='collection-details__location')\n",
    "        art_dict['description'] = soup.find('div', class_='collection-details__label')\n",
    "        art_dict['image'] = soup.findAll('img')[1]\n",
    "        artwork.insert_one(art_dict)\n",
    "\n",
    "        #_title.append(title.text)\n",
    "        #art.append(artist.text)\n",
    "        #gall.append(gallery.text)\n",
    "        #desc.append(description.text)\n",
    "        #img.append(image)\n",
    "        \n",
    "\n",
    "    #return art, gall, desc, _title, img"
   ]
  },
  {
   "cell_type": "code",
   "execution_count": null,
   "metadata": {
    "collapsed": true
   },
   "outputs": [],
   "source": [
    "client = MongoClient()\n",
    "db = client.paintings\n",
    "\n",
    "artwork = db.artwork\n",
    "\n",
    "artist = []\n",
    "description = []\n",
    "gallery = []\n",
    "image = []\n",
    "title = []\n",
    "for i in range(len(lst)):\n",
    "    print i\n",
    "    driver = webdriver.PhantomJS()  \n",
    "    driver.implicitly_wait(1)\n",
    "    driver.get(lst[i])\n",
    "    #driver.get('http://www.metmuseum.org/art/collection#!?material=Paintings&showOnly=withImage&offset=0&pageSize=0&sortBy=Relevance&sortOrder=asc&perPage=20')\n",
    "    #time.sleep(3)\n",
    "    html = driver.page_source\n",
    "    driver.quit()\n",
    "    \n",
    "    my_links = get_links(html)\n",
    "    soup_obj = get_soup_obj(my_links)\n",
    "    art, gall, desc, _title, img = get_data(soup_obj)\n",
    "    #artist.append(art)\n",
    "    #title.append(_title)\n",
    "    #gallery.append(gall)\n",
    "    #description.append(desc)\n",
    "    #image.append(img)"
   ]
  },
  {
   "cell_type": "code",
   "execution_count": null,
   "metadata": {
    "collapsed": true
   },
   "outputs": [],
   "source": [
    "def get_links(html):\n",
    "    my_links = []\n",
    "\n",
    "    soup = BeautifulSoup(html, 'html.parser')\n",
    "\n",
    "    for figure in soup.find_all('figure',class_=\"card__standard-image\"):\n",
    "        fig = figure.find('a')['href']\n",
    "        if '/art/collection/search/' in fig:\n",
    "            url = 'http://www.metmuseum.org' + fig\n",
    "            my_links.append(url)\n",
    "    return my_links\n",
    "\n",
    "def get_soup_obj(my_links):\n",
    "    soup_objs = []\n",
    "\n",
    "    for i in my_links:\n",
    "        response = requests.get(i)\n",
    "        page = response.text\n",
    "        link_soup = BeautifulSoup(page)\n",
    "        soup_objs.append(link_soup)\n",
    "    return soup_objs\n",
    "    \n",
    "\n",
    "def get_data(soup_objs):\n",
    "    _title = []\n",
    "    art = []\n",
    "    gall = []\n",
    "    desc = []\n",
    "    img = []\n",
    "    for soup in soup_objs:\n",
    "        title = soup.find('h1', class_='collection-details__object-title')\n",
    "        artist = soup.find('div',class_='collection-details__tombstone')\n",
    "        gallery = soup.find('div', class_='collection-details__location')\n",
    "        description = soup.find('div', class_='collection-details__label')\n",
    "        image = soup.findAll('img')[1]\n",
    "\n",
    "        _title.append(title.text)\n",
    "        art.append(artist.text)\n",
    "        gall.append(gallery.text)\n",
    "        desc.append(description.text)\n",
    "        img.append(image)\n",
    "        \n",
    "\n",
    "    return art, gall, desc, _title, img"
   ]
  },
  {
   "cell_type": "code",
   "execution_count": null,
   "metadata": {
    "collapsed": true
   },
   "outputs": [],
   "source": []
  }
 ],
 "metadata": {
  "kernelspec": {
   "display_name": "Python 2",
   "language": "python",
   "name": "python2"
  },
  "language_info": {
   "codemirror_mode": {
    "name": "ipython",
    "version": 2
   },
   "file_extension": ".py",
   "mimetype": "text/x-python",
   "name": "python",
   "nbconvert_exporter": "python",
   "pygments_lexer": "ipython2",
   "version": "2.7.12"
  }
 },
 "nbformat": 4,
 "nbformat_minor": 0
}
