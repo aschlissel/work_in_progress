{
 "cells": [
  {
   "cell_type": "markdown",
   "metadata": {},
   "source": [
    "### Imports "
   ]
  },
  {
   "cell_type": "code",
   "execution_count": 1,
   "metadata": {
    "collapsed": false
   },
   "outputs": [],
   "source": [
    "import json\n",
    "from pymongo import MongoClient\n",
    "import pandas as pd\n",
    "import nltk\n",
    "import numpy as np\n",
    "import unicodedata\n",
    "from nltk.tokenize import sent_tokenize\n",
    "from nltk.tokenize import word_tokenize\n",
    "from nltk.tag import pos_tag\n",
    "from sklearn.feature_extraction.text import CountVectorizer\n",
    "from sklearn.feature_extraction.text import TfidfVectorizer\n",
    "from sklearn.metrics.pairwise import cosine_distances\n",
    "from sklearn.metrics.pairwise import paired_euclidean_distances\n",
    "import lda\n",
    "from numpy.random import choice\n",
    "import random\n",
    "import seaborn as sns\n",
    "import matplotlib.pyplot as plt\n",
    "%matplotlib inline"
   ]
  },
  {
   "cell_type": "markdown",
   "metadata": {},
   "source": [
    "### Upload data to MongoDB"
   ]
  },
  {
   "cell_type": "code",
   "execution_count": 7,
   "metadata": {
    "collapsed": true
   },
   "outputs": [],
   "source": [
    "client = MongoClient()\n",
    "db = client.food_db\n",
    "# Our collection: \n",
    "reviews_10 = db.food_collections10"
   ]
  },
  {
   "cell_type": "code",
   "execution_count": 8,
   "metadata": {
    "collapsed": true
   },
   "outputs": [],
   "source": [
    "foods = []\n",
    "\n",
    "def read_file(path):\n",
    "    with open(path, 'r') as file:\n",
    "        return file.read()"
   ]
  },
  {
   "cell_type": "code",
   "execution_count": 9,
   "metadata": {
    "collapsed": false
   },
   "outputs": [],
   "source": [
    "text = read_file('finefoods.txt')\n",
    "text=text.decode('utf-8','ignore').encode(\"utf-8\")\n",
    "text_new = text.split('\\n\\n')"
   ]
  },
  {
   "cell_type": "code",
   "execution_count": 10,
   "metadata": {
    "collapsed": false
   },
   "outputs": [],
   "source": [
    "#make data into a dictionary\n",
    "\n",
    "for i in text_new:\n",
    "    group=i.split('\\n')\n",
    "    my_dict={}\n",
    "    for j in group:\n",
    "        if 'product/productId:' in j:\n",
    "            value=j.split(': ')[1]\n",
    "            my_dict['productId']=value\n",
    "        if 'review/userId' in j:\n",
    "            value=j.split(': ')[1]\n",
    "            my_dict['userId']=value\n",
    "        if 'review/profileName' in j:\n",
    "            value=j.split(': ')[1]\n",
    "            my_dict['profileName']=value\n",
    "        if 'review/helpfulness' in j:\n",
    "            value=j.split(': ')[1]\n",
    "            my_dict['helpfulness']=value\n",
    "        if 'review/score' in j:\n",
    "            value=j.split(': ')[1]\n",
    "            my_dict['score']=value\n",
    "        if 'review/summary' in j:\n",
    "            value=j.split(': ')[1]\n",
    "            my_dict['summary']=value\n",
    "        if 'review/text' in j:\n",
    "            value=j.split(': ')[1]\n",
    "            my_dict['text']=value\n",
    "    reviews_10.insert_one(my_dict)"
   ]
  },
  {
   "cell_type": "code",
   "execution_count": 11,
   "metadata": {
    "collapsed": false
   },
   "outputs": [
    {
     "name": "stdout",
     "output_type": "stream",
     "text": [
      "Collection(Database(MongoClient(host=['localhost:27017'], document_class=dict, tz_aware=False, connect=True), u'food_db'), u'food_collections10')\n"
     ]
    }
   ],
   "source": [
    "print reviews_10"
   ]
  },
  {
   "cell_type": "code",
   "execution_count": 12,
   "metadata": {
    "collapsed": false
   },
   "outputs": [
    {
     "name": "stdout",
     "output_type": "stream",
     "text": [
      "568455\n"
     ]
    }
   ],
   "source": [
    "print len(text_new)"
   ]
  },
  {
   "cell_type": "code",
   "execution_count": 13,
   "metadata": {
    "collapsed": false
   },
   "outputs": [
    {
     "data": {
      "text/plain": [
       "568455"
      ]
     },
     "execution_count": 13,
     "metadata": {},
     "output_type": "execute_result"
    }
   ],
   "source": [
    "reviews_10.count()"
   ]
  },
  {
   "cell_type": "code",
   "execution_count": 14,
   "metadata": {
    "collapsed": false
   },
   "outputs": [
    {
     "name": "stdout",
     "output_type": "stream",
     "text": [
      "568455\n"
     ]
    }
   ],
   "source": [
    "my_reviews = reviews_10\n",
    "print my_reviews.count()"
   ]
  },
  {
   "cell_type": "code",
   "execution_count": 15,
   "metadata": {
    "collapsed": false
   },
   "outputs": [
    {
     "name": "stdout",
     "output_type": "stream",
     "text": [
      "Collection(Database(MongoClient(host=['localhost:27017'], document_class=dict, tz_aware=False, connect=True), u'food_db'), u'food_collections10')\n"
     ]
    }
   ],
   "source": [
    "print my_reviews"
   ]
  },
  {
   "cell_type": "markdown",
   "metadata": {},
   "source": [
    "### Convert to DataFrame"
   ]
  },
  {
   "cell_type": "code",
   "execution_count": 16,
   "metadata": {
    "collapsed": false
   },
   "outputs": [],
   "source": [
    "columns = ['productId', 'userId', 'profileName', 'helpfulness', 'score', 'summary', 'text']\n",
    "\n",
    "df = pd.DataFrame(columns=columns)"
   ]
  },
  {
   "cell_type": "code",
   "execution_count": 17,
   "metadata": {
    "collapsed": false
   },
   "outputs": [],
   "source": [
    "cursor_productId = my_reviews.find({}, {'productId':1})\n",
    "df['productId'] = list(cursor_productId)\n",
    "\n",
    "cursor_userId = my_reviews.find({}, {'userId':1})\n",
    "df['userId'] = list(cursor_userId)\n",
    "\n",
    "cursor_profileName = my_reviews.find({}, {'profileName':1})\n",
    "df['profileName'] = list(cursor_profileName)\n",
    "\n",
    "cursor_helpfulness = my_reviews.find({}, {'helpfulness':1})\n",
    "df['helpfulness'] = list(cursor_helpfulness)\n",
    "\n",
    "cursor_score = my_reviews.find({}, {'score':1})\n",
    "df['score'] = list(cursor_score)\n",
    "\n",
    "cursor_summary = my_reviews.find({}, {'summary':1})\n",
    "df['summary'] = list(cursor_summary)\n",
    "\n",
    "cursor_text = my_reviews.find({}, {'text':1})\n",
    "df['text'] = list(cursor_text)"
   ]
  },
  {
   "cell_type": "code",
   "execution_count": 18,
   "metadata": {
    "collapsed": true
   },
   "outputs": [],
   "source": [
    "#make labels for the DataFrame\n",
    "\n",
    "def get_label(series,label):\n",
    "    try:\n",
    "        return series[label]\n",
    "    except:\n",
    "        return ''\n",
    "    \n",
    "for col in ['productId','userId','profileName','helpfulness','score','summary','text']:\n",
    "    df[col] = df[col].apply(lambda x: get_label(x, col))"
   ]
  },
  {
   "cell_type": "code",
   "execution_count": 19,
   "metadata": {
    "collapsed": false
   },
   "outputs": [
    {
     "data": {
      "text/html": [
       "<div>\n",
       "<table border=\"1\" class=\"dataframe\">\n",
       "  <thead>\n",
       "    <tr style=\"text-align: right;\">\n",
       "      <th></th>\n",
       "      <th>productId</th>\n",
       "      <th>userId</th>\n",
       "      <th>profileName</th>\n",
       "      <th>helpfulness</th>\n",
       "      <th>score</th>\n",
       "      <th>summary</th>\n",
       "      <th>text</th>\n",
       "    </tr>\n",
       "  </thead>\n",
       "  <tbody>\n",
       "    <tr>\n",
       "      <th>0</th>\n",
       "      <td>B001E4KFG0</td>\n",
       "      <td>A3SGXH7AUHU8GW</td>\n",
       "      <td>delmartian</td>\n",
       "      <td>1/1</td>\n",
       "      <td>5.0</td>\n",
       "      <td>Good Quality Dog Food</td>\n",
       "      <td>I have bought several of the Vitality canned d...</td>\n",
       "    </tr>\n",
       "    <tr>\n",
       "      <th>1</th>\n",
       "      <td>B00813GRG4</td>\n",
       "      <td>A1D87F6ZCVE5NK</td>\n",
       "      <td>dll pa</td>\n",
       "      <td>0/0</td>\n",
       "      <td>1.0</td>\n",
       "      <td>Not as Advertised</td>\n",
       "      <td>Product arrived labeled as Jumbo Salted Peanut...</td>\n",
       "    </tr>\n",
       "  </tbody>\n",
       "</table>\n",
       "</div>"
      ],
      "text/plain": [
       "    productId          userId profileName helpfulness score  \\\n",
       "0  B001E4KFG0  A3SGXH7AUHU8GW  delmartian         1/1   5.0   \n",
       "1  B00813GRG4  A1D87F6ZCVE5NK      dll pa         0/0   1.0   \n",
       "\n",
       "                 summary                                               text  \n",
       "0  Good Quality Dog Food  I have bought several of the Vitality canned d...  \n",
       "1      Not as Advertised  Product arrived labeled as Jumbo Salted Peanut...  "
      ]
     },
     "execution_count": 19,
     "metadata": {},
     "output_type": "execute_result"
    }
   ],
   "source": [
    "df.head(2)"
   ]
  },
  {
   "cell_type": "code",
   "execution_count": 20,
   "metadata": {
    "collapsed": false
   },
   "outputs": [
    {
     "data": {
      "text/plain": [
       "dtype('O')"
      ]
     },
     "execution_count": 20,
     "metadata": {},
     "output_type": "execute_result"
    }
   ],
   "source": [
    "df['text'].dtypes"
   ]
  },
  {
   "cell_type": "code",
   "execution_count": 21,
   "metadata": {
    "collapsed": false
   },
   "outputs": [
    {
     "data": {
      "text/html": [
       "<div>\n",
       "<table border=\"1\" class=\"dataframe\">\n",
       "  <thead>\n",
       "    <tr style=\"text-align: right;\">\n",
       "      <th></th>\n",
       "      <th>productId</th>\n",
       "      <th>userId</th>\n",
       "      <th>profileName</th>\n",
       "      <th>helpfulness</th>\n",
       "      <th>score</th>\n",
       "      <th>summary</th>\n",
       "      <th>text</th>\n",
       "      <th>five</th>\n",
       "    </tr>\n",
       "  </thead>\n",
       "  <tbody>\n",
       "    <tr>\n",
       "      <th>0</th>\n",
       "      <td>B001E4KFG0</td>\n",
       "      <td>A3SGXH7AUHU8GW</td>\n",
       "      <td>delmartian</td>\n",
       "      <td>1/1</td>\n",
       "      <td>5.0</td>\n",
       "      <td>Good Quality Dog Food</td>\n",
       "      <td>I have bought several of the Vitality canned d...</td>\n",
       "      <td>True</td>\n",
       "    </tr>\n",
       "    <tr>\n",
       "      <th>1</th>\n",
       "      <td>B00813GRG4</td>\n",
       "      <td>A1D87F6ZCVE5NK</td>\n",
       "      <td>dll pa</td>\n",
       "      <td>0/0</td>\n",
       "      <td>1.0</td>\n",
       "      <td>Not as Advertised</td>\n",
       "      <td>Product arrived labeled as Jumbo Salted Peanut...</td>\n",
       "      <td>False</td>\n",
       "    </tr>\n",
       "  </tbody>\n",
       "</table>\n",
       "</div>"
      ],
      "text/plain": [
       "    productId          userId profileName helpfulness score  \\\n",
       "0  B001E4KFG0  A3SGXH7AUHU8GW  delmartian         1/1   5.0   \n",
       "1  B00813GRG4  A1D87F6ZCVE5NK      dll pa         0/0   1.0   \n",
       "\n",
       "                 summary                                               text  \\\n",
       "0  Good Quality Dog Food  I have bought several of the Vitality canned d...   \n",
       "1      Not as Advertised  Product arrived labeled as Jumbo Salted Peanut...   \n",
       "\n",
       "    five  \n",
       "0   True  \n",
       "1  False  "
      ]
     },
     "execution_count": 21,
     "metadata": {},
     "output_type": "execute_result"
    }
   ],
   "source": [
    "#add a column to indicate a five star review\n",
    "\n",
    "df['five'] = np.where(df['score']=='5.0', True, False)\n",
    "df.head(2)"
   ]
  },
  {
   "cell_type": "code",
   "execution_count": 22,
   "metadata": {
    "collapsed": false
   },
   "outputs": [
    {
     "data": {
      "text/plain": [
       "363122"
      ]
     },
     "execution_count": 22,
     "metadata": {},
     "output_type": "execute_result"
    }
   ],
   "source": [
    "df_five = df\n",
    "\n",
    "df_five = df_five[df_five.five]\n",
    "len(df_five)"
   ]
  },
  {
   "cell_type": "code",
   "execution_count": 23,
   "metadata": {
    "collapsed": true
   },
   "outputs": [],
   "source": [
    "df_five = df_five.reindex(np.random.permutation(df_five.index))"
   ]
  },
  {
   "cell_type": "code",
   "execution_count": 24,
   "metadata": {
    "collapsed": false
   },
   "outputs": [
    {
     "data": {
      "text/html": [
       "<div>\n",
       "<table border=\"1\" class=\"dataframe\">\n",
       "  <thead>\n",
       "    <tr style=\"text-align: right;\">\n",
       "      <th></th>\n",
       "      <th>productId</th>\n",
       "      <th>userId</th>\n",
       "      <th>profileName</th>\n",
       "      <th>helpfulness</th>\n",
       "      <th>score</th>\n",
       "      <th>summary</th>\n",
       "      <th>text</th>\n",
       "      <th>five</th>\n",
       "    </tr>\n",
       "  </thead>\n",
       "  <tbody>\n",
       "    <tr>\n",
       "      <th>379867</th>\n",
       "      <td>B001O8PKV6</td>\n",
       "      <td>AKACGHPVILE9R</td>\n",
       "      <td>Sophronia \"Euphemia\"</td>\n",
       "      <td>2/3</td>\n",
       "      <td>5.0</td>\n",
       "      <td>Organic Glass Great Packaging &amp; Taste</td>\n",
       "      <td>This is a great product, the taste is great, t...</td>\n",
       "      <td>True</td>\n",
       "    </tr>\n",
       "    <tr>\n",
       "      <th>490578</th>\n",
       "      <td>B000CQE3IC</td>\n",
       "      <td>AQLL2R1PPR46X</td>\n",
       "      <td>grumpyrainbow</td>\n",
       "      <td>5/7</td>\n",
       "      <td>5.0</td>\n",
       "      <td>I guess not for everyone.</td>\n",
       "      <td>Well, the 1 star reviews are from people who n...</td>\n",
       "      <td>True</td>\n",
       "    </tr>\n",
       "  </tbody>\n",
       "</table>\n",
       "</div>"
      ],
      "text/plain": [
       "         productId         userId           profileName helpfulness score  \\\n",
       "379867  B001O8PKV6  AKACGHPVILE9R  Sophronia \"Euphemia\"         2/3   5.0   \n",
       "490578  B000CQE3IC  AQLL2R1PPR46X         grumpyrainbow         5/7   5.0   \n",
       "\n",
       "                                      summary  \\\n",
       "379867  Organic Glass Great Packaging & Taste   \n",
       "490578              I guess not for everyone.   \n",
       "\n",
       "                                                     text  five  \n",
       "379867  This is a great product, the taste is great, t...  True  \n",
       "490578  Well, the 1 star reviews are from people who n...  True  "
      ]
     },
     "execution_count": 24,
     "metadata": {},
     "output_type": "execute_result"
    }
   ],
   "source": [
    "df_five.head(2)"
   ]
  },
  {
   "cell_type": "code",
   "execution_count": 25,
   "metadata": {
    "collapsed": false
   },
   "outputs": [
    {
     "data": {
      "text/plain": [
       "5000"
      ]
     },
     "execution_count": 25,
     "metadata": {},
     "output_type": "execute_result"
    }
   ],
   "source": [
    "df_five = df_five.drop(df_five.index[5000:])\n",
    "len(df_five)"
   ]
  },
  {
   "cell_type": "code",
   "execution_count": 26,
   "metadata": {
    "collapsed": true
   },
   "outputs": [],
   "source": [
    "#df['text'] = df['text'].astype('str') "
   ]
  },
  {
   "cell_type": "markdown",
   "metadata": {},
   "source": [
    "## NLTK"
   ]
  },
  {
   "cell_type": "markdown",
   "metadata": {},
   "source": [
    "### Sentence"
   ]
  },
  {
   "cell_type": "code",
   "execution_count": 75,
   "metadata": {
    "collapsed": false
   },
   "outputs": [
    {
     "name": "stdout",
     "output_type": "stream",
     "text": [
      "[u'this is a great product, the taste is great, the seller really packages well, i was concerned about the glass breaking, not one casualty.', u'and it is organic!', u'yes!', u'and the price is competitive.']\n"
     ]
    }
   ],
   "source": [
    "#breaks the text up into sentences\n",
    "\n",
    "from nltk.tokenize import sent_tokenize\n",
    "\n",
    "sentences = [sent_tokenize(x.lower()) for x in df_five['text']]\n",
    "print sentences[0]"
   ]
  },
  {
   "cell_type": "markdown",
   "metadata": {},
   "source": [
    "### Words"
   ]
  },
  {
   "cell_type": "code",
   "execution_count": 76,
   "metadata": {
    "collapsed": false
   },
   "outputs": [
    {
     "name": "stdout",
     "output_type": "stream",
     "text": [
      "[u'This', u'is', u'a', u'great', u'product', u',', u'the', u'taste', u'is', u'great', u',', u'the', u'seller', u'really', u'packages', u'well', u',', u'I', u'was', u'concerned', u'about', u'the', u'glass', u'breaking', u',', u'not', u'one', u'casualty', u'.', u'And', u'it', u'is', u'organic', u'!', u'Yes', u'!', u'And', u'the', u'price', u'is', u'competitive', u'.']\n"
     ]
    }
   ],
   "source": [
    "#breaks the text up into words\n",
    "\n",
    "from nltk.tokenize import word_tokenize\n",
    "\n",
    "words = [word_tokenize(x) for x in df_five['text']]\n",
    "print words[0]"
   ]
  },
  {
   "cell_type": "markdown",
   "metadata": {},
   "source": [
    "## Parts of Speech Tagging"
   ]
  },
  {
   "cell_type": "code",
   "execution_count": 29,
   "metadata": {
    "collapsed": false
   },
   "outputs": [
    {
     "data": {
      "text/plain": [
       "[(u'i', 'NNS'),\n",
       " (u'have', 'VBP'),\n",
       " (u'bought', 'VBN'),\n",
       " (u'several', 'JJ'),\n",
       " (u'of', 'IN'),\n",
       " (u'the', 'DT'),\n",
       " (u'vitality', 'NN'),\n",
       " (u'canned', 'VBD'),\n",
       " (u'dog', 'JJ'),\n",
       " (u'food', 'NN'),\n",
       " (u'products', 'NNS'),\n",
       " (u'and', 'CC'),\n",
       " (u'have', 'VBP'),\n",
       " (u'found', 'VBN'),\n",
       " (u'them', 'PRP'),\n",
       " (u'all', 'DT'),\n",
       " (u'to', 'TO'),\n",
       " (u'be', 'VB'),\n",
       " (u'of', 'IN'),\n",
       " (u'good', 'JJ'),\n",
       " (u'quality', 'NN'),\n",
       " (u'.', '.'),\n",
       " (u'the', 'DT'),\n",
       " (u'product', 'NN'),\n",
       " (u'looks', 'VBZ'),\n",
       " (u'more', 'RBR'),\n",
       " (u'like', 'IN'),\n",
       " (u'a', 'DT'),\n",
       " (u'stew', 'NN'),\n",
       " (u'than', 'IN'),\n",
       " (u'a', 'DT'),\n",
       " (u'processed', 'JJ'),\n",
       " (u'meat', 'NN'),\n",
       " (u'and', 'CC'),\n",
       " (u'it', 'PRP'),\n",
       " (u'smells', 'VBZ'),\n",
       " (u'better', 'RBR'),\n",
       " (u'.', '.'),\n",
       " (u'my', 'PRP$'),\n",
       " (u'labrador', 'NN'),\n",
       " (u'is', 'VBZ'),\n",
       " (u'finicky', 'JJ'),\n",
       " (u'and', 'CC'),\n",
       " (u'she', 'PRP'),\n",
       " (u'appreciates', 'VBZ'),\n",
       " (u'this', 'DT'),\n",
       " (u'product', 'NN'),\n",
       " (u'better', 'JJR'),\n",
       " (u'than', 'IN'),\n",
       " (u'most', 'JJS'),\n",
       " (u'.', '.')]"
      ]
     },
     "execution_count": 29,
     "metadata": {},
     "output_type": "execute_result"
    }
   ],
   "source": [
    "from nltk.tag import pos_tag\n",
    "word_tags = word_tokenize(df['text'].str.lower()[0])\n",
    "pos_tag(word_tags)"
   ]
  },
  {
   "cell_type": "markdown",
   "metadata": {},
   "source": [
    "## Count Vectorizer"
   ]
  },
  {
   "cell_type": "code",
   "execution_count": 30,
   "metadata": {
    "collapsed": false
   },
   "outputs": [],
   "source": [
    "tmp = [i.lower() for i in df_five['text']]"
   ]
  },
  {
   "cell_type": "code",
   "execution_count": 31,
   "metadata": {
    "collapsed": false
   },
   "outputs": [
    {
     "data": {
      "text/plain": [
       "<5000x13217 sparse matrix of type '<type 'numpy.int64'>'\n",
       "\twith 136252 stored elements in Compressed Sparse Row format>"
      ]
     },
     "execution_count": 31,
     "metadata": {},
     "output_type": "execute_result"
    }
   ],
   "source": [
    "from sklearn.feature_extraction.text import CountVectorizer\n",
    "vectorizer = CountVectorizer(stop_words='english')\n",
    "X = vectorizer.fit_transform(tmp)\n",
    "X"
   ]
  },
  {
   "cell_type": "code",
   "execution_count": 82,
   "metadata": {
    "collapsed": false
   },
   "outputs": [],
   "source": [
    "vect = vectorizer.get_feature_names()"
   ]
  },
  {
   "cell_type": "code",
   "execution_count": 33,
   "metadata": {
    "collapsed": false
   },
   "outputs": [
    {
     "data": {
      "text/plain": [
       "array([[0, 0, 0, ..., 0, 0, 0],\n",
       "       [0, 0, 0, ..., 0, 0, 0],\n",
       "       [0, 0, 0, ..., 0, 0, 0],\n",
       "       ..., \n",
       "       [0, 0, 0, ..., 0, 0, 0],\n",
       "       [0, 0, 0, ..., 0, 0, 0],\n",
       "       [0, 0, 0, ..., 0, 0, 0]])"
      ]
     },
     "execution_count": 33,
     "metadata": {},
     "output_type": "execute_result"
    }
   ],
   "source": [
    "X.toarray()"
   ]
  },
  {
   "cell_type": "markdown",
   "metadata": {},
   "source": [
    "## Bi-Grams"
   ]
  },
  {
   "cell_type": "code",
   "execution_count": 34,
   "metadata": {
    "collapsed": false
   },
   "outputs": [
    {
     "data": {
      "text/plain": [
       "array([[0, 0, 0, ..., 1, 0, 0],\n",
       "       [0, 0, 0, ..., 0, 0, 0],\n",
       "       [0, 0, 0, ..., 0, 0, 0],\n",
       "       ..., \n",
       "       [0, 0, 0, ..., 0, 0, 0],\n",
       "       [0, 0, 1, ..., 0, 0, 1],\n",
       "       [0, 1, 0, ..., 0, 0, 0]])"
      ]
     },
     "execution_count": 34,
     "metadata": {},
     "output_type": "execute_result"
    }
   ],
   "source": [
    "bigram_vectorizer = CountVectorizer(stop_words= 'english', ngram_range=(2,2),min_df=1)\n",
    "bigram_vectorizer.fit_transform(tmp[:10]).toarray()"
   ]
  },
  {
   "cell_type": "code",
   "execution_count": 88,
   "metadata": {
    "collapsed": false
   },
   "outputs": [
    {
     "data": {
      "text/plain": [
       "[u'cut loaf',\n",
       " u'cut warm',\n",
       " u'daily good',\n",
       " u'days br',\n",
       " u'decaf earl',\n",
       " u'decided order',\n",
       " u'decided try',\n",
       " u'dedicated gluten',\n",
       " u'did cost',\n",
       " u'didnt add']"
      ]
     },
     "execution_count": 88,
     "metadata": {},
     "output_type": "execute_result"
    }
   ],
   "source": [
    "#bigrams break down the text into popular two word phrases\n",
    "\n",
    "bigram_vectorizer.get_feature_names()[100:110]"
   ]
  },
  {
   "cell_type": "markdown",
   "metadata": {},
   "source": [
    "## TF IDF"
   ]
  },
  {
   "cell_type": "code",
   "execution_count": 36,
   "metadata": {
    "collapsed": false
   },
   "outputs": [
    {
     "data": {
      "text/plain": [
       "array([[ 0.,  0.,  0., ...,  0.,  0.,  0.],\n",
       "       [ 0.,  0.,  0., ...,  0.,  0.,  0.],\n",
       "       [ 0.,  0.,  0., ...,  0.,  0.,  0.],\n",
       "       ..., \n",
       "       [ 0.,  0.,  0., ...,  0.,  0.,  0.],\n",
       "       [ 0.,  0.,  0., ...,  0.,  0.,  0.],\n",
       "       [ 0.,  0.,  0., ...,  0.,  0.,  0.]])"
      ]
     },
     "execution_count": 36,
     "metadata": {},
     "output_type": "execute_result"
    }
   ],
   "source": [
    "from sklearn.feature_extraction.text import TfidfVectorizer\n",
    "vectorizer = TfidfVectorizer(stop_words='english')\n",
    "vectorizer.fit_transform(tmp).toarray()"
   ]
  },
  {
   "cell_type": "markdown",
   "metadata": {},
   "source": [
    "## Distance"
   ]
  },
  {
   "cell_type": "code",
   "execution_count": 37,
   "metadata": {
    "collapsed": false
   },
   "outputs": [
    {
     "name": "stdout",
     "output_type": "stream",
     "text": [
      "[[ 0.93273272]]\n",
      "[ 8.06225775]\n"
     ]
    }
   ],
   "source": [
    "from sklearn.metrics.pairwise import cosine_distances\n",
    "from sklearn.metrics.pairwise import paired_euclidean_distances\n",
    "\n",
    "print cosine_distances(X[0], X[1])\n",
    "print paired_euclidean_distances(X[0], X[1])"
   ]
  },
  {
   "cell_type": "markdown",
   "metadata": {},
   "source": [
    "## Dendrogram"
   ]
  },
  {
   "cell_type": "code",
   "execution_count": 62,
   "metadata": {
    "collapsed": true
   },
   "outputs": [],
   "source": [
    "from nltk.stem.porter import PorterStemmer\n",
    "\n",
    "'''\n",
    "def tokenize(text):\n",
    "    tokens = nltk.word_tokenize(text)\n",
    "    stems = []\n",
    "    for item in tokens:\n",
    "        stems.append(PorterStemmer().stem(item))\n",
    "    return stems\n",
    "'''\n",
    "\n",
    "stopwords = [i for i in nltk.corpus.stopwords.words('english')]\n",
    "stopwords.extend(['amazon', 'product', 'br', 'one', 'use', 'always', 'get', 'also', 'far', 'give',\n",
    "                 'foods', 'dogs', 'loves', 'two', 'treats'])\n",
    "\n",
    "#'thi', 'wa', ',', '>', '<', '/', '!', \"'s\", \"''\", ')'\n",
    "tfidf = TfidfVectorizer(max_df=0.8, max_features=10000,\n",
    "                       min_df=0.03, stop_words=stopwords, use_idf=True)\n",
    "\n",
    "tfidf_matrix = tfidf.fit_transform(tmp)"
   ]
  },
  {
   "cell_type": "code",
   "execution_count": 63,
   "metadata": {
    "collapsed": false
   },
   "outputs": [
    {
     "data": {
      "text/plain": [
       "(5000, 169)"
      ]
     },
     "execution_count": 63,
     "metadata": {},
     "output_type": "execute_result"
    }
   ],
   "source": [
    "tfidf_matrix.shape"
   ]
  },
  {
   "cell_type": "code",
   "execution_count": 64,
   "metadata": {
    "collapsed": false
   },
   "outputs": [],
   "source": [
    "from scipy.cluster.hierarchy import dendrogram, linkage\n",
    "\n",
    "Z = linkage(tfidf_matrix.toarray(), 'average')"
   ]
  },
  {
   "cell_type": "code",
   "execution_count": 65,
   "metadata": {
    "collapsed": false
   },
   "outputs": [
    {
     "data": {
      "image/png": "[encoded data removed]",
      "text/plain": [
       "<matplotlib.figure.Figure at 0x11893cc10>"
      ]
     },
     "metadata": {},
     "output_type": "display_data"
    }
   ],
   "source": [
    "#dendograms are a form of tree diagram showing taxonomic relationships\n",
    "\n",
    "plt.figure(figsize=(30, 10))\n",
    "plt.xlabel('samples')\n",
    "plt.ylabel('similarity')\n",
    "\n",
    "dendrogram(Z, leaf_rotation=90., leaf_font_size=8.,)\n",
    "\n",
    "plt.show()"
   ]
  },
  {
   "cell_type": "markdown",
   "metadata": {},
   "source": [
    "### PCA"
   ]
  },
  {
   "cell_type": "code",
   "execution_count": 66,
   "metadata": {
    "collapsed": true
   },
   "outputs": [],
   "source": [
    "from sklearn.decomposition import PCA"
   ]
  },
  {
   "cell_type": "code",
   "execution_count": 67,
   "metadata": {
    "collapsed": false
   },
   "outputs": [
    {
     "data": {
      "image/png": "[encoded data removed]",
      "text/plain": [
       "<matplotlib.figure.Figure at 0x11893ca90>"
      ]
     },
     "metadata": {},
     "output_type": "display_data"
    },
    {
     "data": {
      "text/plain": [
       "array([ 0.02537074,  0.02436769,  0.01755844,  0.01648365,  0.01512777,\n",
       "        0.01399161,  0.0133457 ,  0.01223601,  0.01136038,  0.01108366,\n",
       "        0.01076918,  0.01038144,  0.00990546,  0.00965405,  0.00950437,\n",
       "        0.00926118,  0.00913843,  0.009073  ,  0.00893015,  0.00843597,\n",
       "        0.00834885,  0.00818046,  0.00805344,  0.00795932,  0.00779865,\n",
       "        0.00769982,  0.00755107,  0.00741563,  0.00737907,  0.00725379,\n",
       "        0.00714618,  0.00709887,  0.0070629 ,  0.00700082,  0.00686528,\n",
       "        0.00681771,  0.00678184,  0.00666136,  0.00662811,  0.00653717,\n",
       "        0.00653136,  0.00647667,  0.00642048,  0.00635677,  0.00628524,\n",
       "        0.00628186,  0.00622071,  0.00612342,  0.00603858,  0.00600115,\n",
       "        0.00597831,  0.00594577,  0.00590722,  0.00580948,  0.00579462,\n",
       "        0.0056771 ,  0.00566482,  0.00559484,  0.00553713,  0.00551552,\n",
       "        0.00549337,  0.00541486,  0.00539763,  0.00534425,  0.00530681,\n",
       "        0.0052923 ,  0.00521686,  0.00517979,  0.00515903,  0.00510867,\n",
       "        0.00508839,  0.00503763,  0.00502283,  0.00497938,  0.00492902,\n",
       "        0.00488996,  0.00483932,  0.00483006,  0.00480479,  0.00473644,\n",
       "        0.00469036,  0.0046506 ,  0.00464933,  0.00462123,  0.00458635,\n",
       "        0.0045701 ,  0.00453515,  0.00450876,  0.00444363,  0.00443557,\n",
       "        0.00439909,  0.00436704,  0.00432873,  0.00428018,  0.00426423,\n",
       "        0.00422637,  0.00419765,  0.0041897 ,  0.00413831,  0.00410424])"
      ]
     },
     "execution_count": 67,
     "metadata": {},
     "output_type": "execute_result"
    }
   ],
   "source": [
    "pca = PCA(n_components=100).fit(tfidf_matrix.toarray())\n",
    "data2D = pca.transform(tfidf_matrix.toarray())\n",
    "plt.scatter(data2D[:,0], data2D[:,1])\n",
    "plt.show()\n",
    "pca.explained_variance_"
   ]
  },
  {
   "cell_type": "markdown",
   "metadata": {},
   "source": [
    "## Top 10 Words"
   ]
  },
  {
   "cell_type": "code",
   "execution_count": 89,
   "metadata": {
    "collapsed": false
   },
   "outputs": [
    {
     "data": {
      "text/html": [
       "<div>\n",
       "<table border=\"1\" class=\"dataframe\">\n",
       "  <thead>\n",
       "    <tr style=\"text-align: right;\">\n",
       "      <th></th>\n",
       "      <th>actually</th>\n",
       "      <th>add</th>\n",
       "      <th>almost</th>\n",
       "      <th>another</th>\n",
       "      <th>anything</th>\n",
       "      <th>around</th>\n",
       "      <th>back</th>\n",
       "      <th>bag</th>\n",
       "      <th>bags</th>\n",
       "      <th>best</th>\n",
       "      <th>...</th>\n",
       "      <th>way</th>\n",
       "      <th>well</th>\n",
       "      <th>whole</th>\n",
       "      <th>without</th>\n",
       "      <th>wonderful</th>\n",
       "      <th>work</th>\n",
       "      <th>worth</th>\n",
       "      <th>would</th>\n",
       "      <th>year</th>\n",
       "      <th>years</th>\n",
       "    </tr>\n",
       "  </thead>\n",
       "  <tbody>\n",
       "    <tr>\n",
       "      <th>0</th>\n",
       "      <td>0.0</td>\n",
       "      <td>0.0</td>\n",
       "      <td>0.0</td>\n",
       "      <td>0.0</td>\n",
       "      <td>0.000000</td>\n",
       "      <td>0.0</td>\n",
       "      <td>0.000000</td>\n",
       "      <td>0.0</td>\n",
       "      <td>0.0</td>\n",
       "      <td>0.0</td>\n",
       "      <td>...</td>\n",
       "      <td>0.0</td>\n",
       "      <td>0.371149</td>\n",
       "      <td>0.00000</td>\n",
       "      <td>0.0</td>\n",
       "      <td>0.0</td>\n",
       "      <td>0.0</td>\n",
       "      <td>0.0</td>\n",
       "      <td>0.000000</td>\n",
       "      <td>0.0</td>\n",
       "      <td>0.000000</td>\n",
       "    </tr>\n",
       "    <tr>\n",
       "      <th>1</th>\n",
       "      <td>0.0</td>\n",
       "      <td>0.0</td>\n",
       "      <td>0.0</td>\n",
       "      <td>0.0</td>\n",
       "      <td>0.190806</td>\n",
       "      <td>0.0</td>\n",
       "      <td>0.182192</td>\n",
       "      <td>0.0</td>\n",
       "      <td>0.0</td>\n",
       "      <td>0.0</td>\n",
       "      <td>...</td>\n",
       "      <td>0.0</td>\n",
       "      <td>0.281373</td>\n",
       "      <td>0.18018</td>\n",
       "      <td>0.0</td>\n",
       "      <td>0.0</td>\n",
       "      <td>0.0</td>\n",
       "      <td>0.0</td>\n",
       "      <td>0.270993</td>\n",
       "      <td>0.0</td>\n",
       "      <td>0.165458</td>\n",
       "    </tr>\n",
       "  </tbody>\n",
       "</table>\n",
       "<p>2 rows × 169 columns</p>\n",
       "</div>"
      ],
      "text/plain": [
       "   actually  add  almost  another  anything  around      back  bag  bags  \\\n",
       "0       0.0  0.0     0.0      0.0  0.000000     0.0  0.000000  0.0   0.0   \n",
       "1       0.0  0.0     0.0      0.0  0.190806     0.0  0.182192  0.0   0.0   \n",
       "\n",
       "   best    ...     way      well    whole  without  wonderful  work  worth  \\\n",
       "0   0.0    ...     0.0  0.371149  0.00000      0.0        0.0   0.0    0.0   \n",
       "1   0.0    ...     0.0  0.281373  0.18018      0.0        0.0   0.0    0.0   \n",
       "\n",
       "      would  year     years  \n",
       "0  0.000000   0.0  0.000000  \n",
       "1  0.270993   0.0  0.165458  \n",
       "\n",
       "[2 rows x 169 columns]"
      ]
     },
     "execution_count": 89,
     "metadata": {},
     "output_type": "execute_result"
    }
   ],
   "source": [
    "dense_matrix = tfidf_matrix.todense()\n",
    "dense_df = pd.DataFrame(dense_matrix)\n",
    "dense_df.columns = tfidf.get_feature_names()\n",
    "#dense_df = dense_df.drop('years', 1)\n",
    "dense_df.head(2)"
   ]
  },
  {
   "cell_type": "markdown",
   "metadata": {},
   "source": [
    "### K Means"
   ]
  },
  {
   "cell_type": "code",
   "execution_count": 70,
   "metadata": {
    "collapsed": false
   },
   "outputs": [],
   "source": [
    "#K Means is an unsupervised learning algorithm. It clusters the words into distinct groups.\n",
    "\n",
    "from sklearn.cluster import KMeans\n",
    "\n",
    "n_clusters=5\n",
    "clusters=KMeans(n_clusters).fit_predict(dense_matrix)"
   ]
  },
  {
   "cell_type": "code",
   "execution_count": 71,
   "metadata": {
    "collapsed": true
   },
   "outputs": [],
   "source": [
    "dense_df['clusters'] = clusters"
   ]
  },
  {
   "cell_type": "code",
   "execution_count": 72,
   "metadata": {
    "collapsed": false
   },
   "outputs": [
    {
     "data": {
      "text/html": [
       "<div>\n",
       "<table border=\"1\" class=\"dataframe\">\n",
       "  <thead>\n",
       "    <tr style=\"text-align: right;\">\n",
       "      <th></th>\n",
       "      <th>actually</th>\n",
       "      <th>add</th>\n",
       "      <th>almost</th>\n",
       "      <th>another</th>\n",
       "      <th>anything</th>\n",
       "      <th>around</th>\n",
       "      <th>back</th>\n",
       "      <th>bag</th>\n",
       "      <th>bags</th>\n",
       "      <th>best</th>\n",
       "      <th>...</th>\n",
       "      <th>well</th>\n",
       "      <th>whole</th>\n",
       "      <th>without</th>\n",
       "      <th>wonderful</th>\n",
       "      <th>work</th>\n",
       "      <th>worth</th>\n",
       "      <th>would</th>\n",
       "      <th>year</th>\n",
       "      <th>years</th>\n",
       "      <th>clusters</th>\n",
       "    </tr>\n",
       "  </thead>\n",
       "  <tbody>\n",
       "    <tr>\n",
       "      <th>0</th>\n",
       "      <td>0.0</td>\n",
       "      <td>0.00000</td>\n",
       "      <td>0.0</td>\n",
       "      <td>0.000000</td>\n",
       "      <td>0.000000</td>\n",
       "      <td>0.000000</td>\n",
       "      <td>0.000000</td>\n",
       "      <td>0.0</td>\n",
       "      <td>0.000000</td>\n",
       "      <td>0.000000</td>\n",
       "      <td>...</td>\n",
       "      <td>0.371149</td>\n",
       "      <td>0.000000</td>\n",
       "      <td>0.000000</td>\n",
       "      <td>0.000000</td>\n",
       "      <td>0.000000</td>\n",
       "      <td>0.000000</td>\n",
       "      <td>0.000000</td>\n",
       "      <td>0.000000</td>\n",
       "      <td>0.000000</td>\n",
       "      <td>0</td>\n",
       "    </tr>\n",
       "    <tr>\n",
       "      <th>1</th>\n",
       "      <td>0.0</td>\n",
       "      <td>0.00000</td>\n",
       "      <td>0.0</td>\n",
       "      <td>0.000000</td>\n",
       "      <td>0.190806</td>\n",
       "      <td>0.000000</td>\n",
       "      <td>0.182192</td>\n",
       "      <td>0.0</td>\n",
       "      <td>0.000000</td>\n",
       "      <td>0.000000</td>\n",
       "      <td>...</td>\n",
       "      <td>0.281373</td>\n",
       "      <td>0.180180</td>\n",
       "      <td>0.000000</td>\n",
       "      <td>0.000000</td>\n",
       "      <td>0.000000</td>\n",
       "      <td>0.000000</td>\n",
       "      <td>0.270993</td>\n",
       "      <td>0.000000</td>\n",
       "      <td>0.165458</td>\n",
       "      <td>2</td>\n",
       "    </tr>\n",
       "    <tr>\n",
       "      <th>2</th>\n",
       "      <td>0.0</td>\n",
       "      <td>0.00000</td>\n",
       "      <td>0.0</td>\n",
       "      <td>0.000000</td>\n",
       "      <td>0.000000</td>\n",
       "      <td>0.000000</td>\n",
       "      <td>0.000000</td>\n",
       "      <td>0.0</td>\n",
       "      <td>0.000000</td>\n",
       "      <td>0.000000</td>\n",
       "      <td>...</td>\n",
       "      <td>0.000000</td>\n",
       "      <td>0.000000</td>\n",
       "      <td>0.000000</td>\n",
       "      <td>0.000000</td>\n",
       "      <td>0.000000</td>\n",
       "      <td>0.000000</td>\n",
       "      <td>0.000000</td>\n",
       "      <td>0.000000</td>\n",
       "      <td>0.000000</td>\n",
       "      <td>2</td>\n",
       "    </tr>\n",
       "    <tr>\n",
       "      <th>3</th>\n",
       "      <td>0.0</td>\n",
       "      <td>0.00000</td>\n",
       "      <td>0.0</td>\n",
       "      <td>0.000000</td>\n",
       "      <td>0.000000</td>\n",
       "      <td>0.000000</td>\n",
       "      <td>0.000000</td>\n",
       "      <td>0.0</td>\n",
       "      <td>0.000000</td>\n",
       "      <td>0.422840</td>\n",
       "      <td>...</td>\n",
       "      <td>0.000000</td>\n",
       "      <td>0.000000</td>\n",
       "      <td>0.000000</td>\n",
       "      <td>0.000000</td>\n",
       "      <td>0.000000</td>\n",
       "      <td>0.000000</td>\n",
       "      <td>0.000000</td>\n",
       "      <td>0.000000</td>\n",
       "      <td>0.000000</td>\n",
       "      <td>2</td>\n",
       "    </tr>\n",
       "    <tr>\n",
       "      <th>4</th>\n",
       "      <td>0.0</td>\n",
       "      <td>0.00000</td>\n",
       "      <td>0.0</td>\n",
       "      <td>0.000000</td>\n",
       "      <td>0.000000</td>\n",
       "      <td>0.000000</td>\n",
       "      <td>0.000000</td>\n",
       "      <td>0.0</td>\n",
       "      <td>0.288982</td>\n",
       "      <td>0.000000</td>\n",
       "      <td>...</td>\n",
       "      <td>0.000000</td>\n",
       "      <td>0.000000</td>\n",
       "      <td>0.000000</td>\n",
       "      <td>0.000000</td>\n",
       "      <td>0.000000</td>\n",
       "      <td>0.000000</td>\n",
       "      <td>0.000000</td>\n",
       "      <td>0.000000</td>\n",
       "      <td>0.000000</td>\n",
       "      <td>0</td>\n",
       "    </tr>\n",
       "    <tr>\n",
       "      <th>5</th>\n",
       "      <td>0.0</td>\n",
       "      <td>0.00000</td>\n",
       "      <td>0.0</td>\n",
       "      <td>0.000000</td>\n",
       "      <td>0.000000</td>\n",
       "      <td>0.000000</td>\n",
       "      <td>0.000000</td>\n",
       "      <td>0.0</td>\n",
       "      <td>0.000000</td>\n",
       "      <td>0.000000</td>\n",
       "      <td>...</td>\n",
       "      <td>0.000000</td>\n",
       "      <td>0.000000</td>\n",
       "      <td>0.000000</td>\n",
       "      <td>0.000000</td>\n",
       "      <td>0.000000</td>\n",
       "      <td>0.000000</td>\n",
       "      <td>0.000000</td>\n",
       "      <td>0.000000</td>\n",
       "      <td>0.000000</td>\n",
       "      <td>2</td>\n",
       "    </tr>\n",
       "    <tr>\n",
       "      <th>6</th>\n",
       "      <td>0.0</td>\n",
       "      <td>0.00000</td>\n",
       "      <td>0.0</td>\n",
       "      <td>0.000000</td>\n",
       "      <td>0.000000</td>\n",
       "      <td>0.000000</td>\n",
       "      <td>0.000000</td>\n",
       "      <td>0.0</td>\n",
       "      <td>0.000000</td>\n",
       "      <td>0.228766</td>\n",
       "      <td>...</td>\n",
       "      <td>0.000000</td>\n",
       "      <td>0.000000</td>\n",
       "      <td>0.000000</td>\n",
       "      <td>0.000000</td>\n",
       "      <td>0.000000</td>\n",
       "      <td>0.000000</td>\n",
       "      <td>0.000000</td>\n",
       "      <td>0.000000</td>\n",
       "      <td>0.289681</td>\n",
       "      <td>2</td>\n",
       "    </tr>\n",
       "    <tr>\n",
       "      <th>7</th>\n",
       "      <td>0.0</td>\n",
       "      <td>0.00000</td>\n",
       "      <td>0.0</td>\n",
       "      <td>0.269944</td>\n",
       "      <td>0.265240</td>\n",
       "      <td>0.000000</td>\n",
       "      <td>0.000000</td>\n",
       "      <td>0.0</td>\n",
       "      <td>0.000000</td>\n",
       "      <td>0.181639</td>\n",
       "      <td>...</td>\n",
       "      <td>0.000000</td>\n",
       "      <td>0.000000</td>\n",
       "      <td>0.000000</td>\n",
       "      <td>0.000000</td>\n",
       "      <td>0.257716</td>\n",
       "      <td>0.267007</td>\n",
       "      <td>0.188354</td>\n",
       "      <td>0.000000</td>\n",
       "      <td>0.000000</td>\n",
       "      <td>2</td>\n",
       "    </tr>\n",
       "    <tr>\n",
       "      <th>8</th>\n",
       "      <td>0.0</td>\n",
       "      <td>0.17173</td>\n",
       "      <td>0.0</td>\n",
       "      <td>0.000000</td>\n",
       "      <td>0.000000</td>\n",
       "      <td>0.000000</td>\n",
       "      <td>0.000000</td>\n",
       "      <td>0.0</td>\n",
       "      <td>0.000000</td>\n",
       "      <td>0.130243</td>\n",
       "      <td>...</td>\n",
       "      <td>0.140232</td>\n",
       "      <td>0.000000</td>\n",
       "      <td>0.000000</td>\n",
       "      <td>0.000000</td>\n",
       "      <td>0.184794</td>\n",
       "      <td>0.000000</td>\n",
       "      <td>0.000000</td>\n",
       "      <td>0.000000</td>\n",
       "      <td>0.000000</td>\n",
       "      <td>2</td>\n",
       "    </tr>\n",
       "    <tr>\n",
       "      <th>9</th>\n",
       "      <td>0.0</td>\n",
       "      <td>0.00000</td>\n",
       "      <td>0.0</td>\n",
       "      <td>0.000000</td>\n",
       "      <td>0.000000</td>\n",
       "      <td>0.000000</td>\n",
       "      <td>0.099332</td>\n",
       "      <td>0.0</td>\n",
       "      <td>0.000000</td>\n",
       "      <td>0.071240</td>\n",
       "      <td>...</td>\n",
       "      <td>0.000000</td>\n",
       "      <td>0.098236</td>\n",
       "      <td>0.000000</td>\n",
       "      <td>0.000000</td>\n",
       "      <td>0.000000</td>\n",
       "      <td>0.000000</td>\n",
       "      <td>0.000000</td>\n",
       "      <td>0.000000</td>\n",
       "      <td>0.090209</td>\n",
       "      <td>2</td>\n",
       "    </tr>\n",
       "    <tr>\n",
       "      <th>10</th>\n",
       "      <td>0.0</td>\n",
       "      <td>0.00000</td>\n",
       "      <td>0.0</td>\n",
       "      <td>0.266232</td>\n",
       "      <td>0.000000</td>\n",
       "      <td>0.264405</td>\n",
       "      <td>0.000000</td>\n",
       "      <td>0.0</td>\n",
       "      <td>0.000000</td>\n",
       "      <td>0.000000</td>\n",
       "      <td>...</td>\n",
       "      <td>0.000000</td>\n",
       "      <td>0.000000</td>\n",
       "      <td>0.000000</td>\n",
       "      <td>0.000000</td>\n",
       "      <td>0.254172</td>\n",
       "      <td>0.000000</td>\n",
       "      <td>0.000000</td>\n",
       "      <td>0.000000</td>\n",
       "      <td>0.000000</td>\n",
       "      <td>2</td>\n",
       "    </tr>\n",
       "    <tr>\n",
       "      <th>11</th>\n",
       "      <td>0.0</td>\n",
       "      <td>0.00000</td>\n",
       "      <td>0.0</td>\n",
       "      <td>0.000000</td>\n",
       "      <td>0.000000</td>\n",
       "      <td>0.000000</td>\n",
       "      <td>0.000000</td>\n",
       "      <td>0.0</td>\n",
       "      <td>0.000000</td>\n",
       "      <td>0.000000</td>\n",
       "      <td>...</td>\n",
       "      <td>0.000000</td>\n",
       "      <td>0.000000</td>\n",
       "      <td>0.000000</td>\n",
       "      <td>0.000000</td>\n",
       "      <td>0.000000</td>\n",
       "      <td>0.000000</td>\n",
       "      <td>0.000000</td>\n",
       "      <td>0.000000</td>\n",
       "      <td>0.000000</td>\n",
       "      <td>2</td>\n",
       "    </tr>\n",
       "    <tr>\n",
       "      <th>12</th>\n",
       "      <td>0.0</td>\n",
       "      <td>0.00000</td>\n",
       "      <td>0.0</td>\n",
       "      <td>0.000000</td>\n",
       "      <td>0.000000</td>\n",
       "      <td>0.000000</td>\n",
       "      <td>0.000000</td>\n",
       "      <td>0.0</td>\n",
       "      <td>0.000000</td>\n",
       "      <td>0.000000</td>\n",
       "      <td>...</td>\n",
       "      <td>0.000000</td>\n",
       "      <td>0.000000</td>\n",
       "      <td>0.000000</td>\n",
       "      <td>0.000000</td>\n",
       "      <td>0.000000</td>\n",
       "      <td>0.000000</td>\n",
       "      <td>0.327844</td>\n",
       "      <td>0.000000</td>\n",
       "      <td>0.000000</td>\n",
       "      <td>0</td>\n",
       "    </tr>\n",
       "    <tr>\n",
       "      <th>13</th>\n",
       "      <td>0.0</td>\n",
       "      <td>0.00000</td>\n",
       "      <td>0.0</td>\n",
       "      <td>0.000000</td>\n",
       "      <td>0.000000</td>\n",
       "      <td>0.000000</td>\n",
       "      <td>0.000000</td>\n",
       "      <td>0.0</td>\n",
       "      <td>0.000000</td>\n",
       "      <td>0.000000</td>\n",
       "      <td>...</td>\n",
       "      <td>0.000000</td>\n",
       "      <td>0.000000</td>\n",
       "      <td>0.000000</td>\n",
       "      <td>0.000000</td>\n",
       "      <td>0.000000</td>\n",
       "      <td>0.232930</td>\n",
       "      <td>0.000000</td>\n",
       "      <td>0.000000</td>\n",
       "      <td>0.000000</td>\n",
       "      <td>2</td>\n",
       "    </tr>\n",
       "    <tr>\n",
       "      <th>14</th>\n",
       "      <td>0.0</td>\n",
       "      <td>0.00000</td>\n",
       "      <td>0.0</td>\n",
       "      <td>0.000000</td>\n",
       "      <td>0.000000</td>\n",
       "      <td>0.000000</td>\n",
       "      <td>0.000000</td>\n",
       "      <td>0.0</td>\n",
       "      <td>0.000000</td>\n",
       "      <td>0.000000</td>\n",
       "      <td>...</td>\n",
       "      <td>0.000000</td>\n",
       "      <td>0.000000</td>\n",
       "      <td>0.000000</td>\n",
       "      <td>0.000000</td>\n",
       "      <td>0.000000</td>\n",
       "      <td>0.000000</td>\n",
       "      <td>0.000000</td>\n",
       "      <td>0.000000</td>\n",
       "      <td>0.000000</td>\n",
       "      <td>0</td>\n",
       "    </tr>\n",
       "    <tr>\n",
       "      <th>15</th>\n",
       "      <td>0.0</td>\n",
       "      <td>0.00000</td>\n",
       "      <td>0.0</td>\n",
       "      <td>0.000000</td>\n",
       "      <td>0.000000</td>\n",
       "      <td>0.000000</td>\n",
       "      <td>0.000000</td>\n",
       "      <td>0.0</td>\n",
       "      <td>0.000000</td>\n",
       "      <td>0.000000</td>\n",
       "      <td>...</td>\n",
       "      <td>0.171087</td>\n",
       "      <td>0.000000</td>\n",
       "      <td>0.000000</td>\n",
       "      <td>0.000000</td>\n",
       "      <td>0.000000</td>\n",
       "      <td>0.000000</td>\n",
       "      <td>0.000000</td>\n",
       "      <td>0.225723</td>\n",
       "      <td>0.000000</td>\n",
       "      <td>2</td>\n",
       "    </tr>\n",
       "    <tr>\n",
       "      <th>16</th>\n",
       "      <td>0.0</td>\n",
       "      <td>0.00000</td>\n",
       "      <td>0.0</td>\n",
       "      <td>0.000000</td>\n",
       "      <td>0.000000</td>\n",
       "      <td>0.000000</td>\n",
       "      <td>0.000000</td>\n",
       "      <td>0.0</td>\n",
       "      <td>0.000000</td>\n",
       "      <td>0.000000</td>\n",
       "      <td>...</td>\n",
       "      <td>0.000000</td>\n",
       "      <td>0.000000</td>\n",
       "      <td>0.000000</td>\n",
       "      <td>0.000000</td>\n",
       "      <td>0.000000</td>\n",
       "      <td>0.000000</td>\n",
       "      <td>0.000000</td>\n",
       "      <td>0.000000</td>\n",
       "      <td>0.000000</td>\n",
       "      <td>0</td>\n",
       "    </tr>\n",
       "    <tr>\n",
       "      <th>17</th>\n",
       "      <td>0.0</td>\n",
       "      <td>0.00000</td>\n",
       "      <td>0.0</td>\n",
       "      <td>0.000000</td>\n",
       "      <td>0.000000</td>\n",
       "      <td>0.000000</td>\n",
       "      <td>0.149333</td>\n",
       "      <td>0.0</td>\n",
       "      <td>0.000000</td>\n",
       "      <td>0.107100</td>\n",
       "      <td>...</td>\n",
       "      <td>0.000000</td>\n",
       "      <td>0.000000</td>\n",
       "      <td>0.137998</td>\n",
       "      <td>0.000000</td>\n",
       "      <td>0.000000</td>\n",
       "      <td>0.000000</td>\n",
       "      <td>0.111060</td>\n",
       "      <td>0.000000</td>\n",
       "      <td>0.000000</td>\n",
       "      <td>2</td>\n",
       "    </tr>\n",
       "    <tr>\n",
       "      <th>18</th>\n",
       "      <td>0.0</td>\n",
       "      <td>0.00000</td>\n",
       "      <td>0.0</td>\n",
       "      <td>0.000000</td>\n",
       "      <td>0.000000</td>\n",
       "      <td>0.000000</td>\n",
       "      <td>0.000000</td>\n",
       "      <td>0.0</td>\n",
       "      <td>0.000000</td>\n",
       "      <td>0.000000</td>\n",
       "      <td>...</td>\n",
       "      <td>0.000000</td>\n",
       "      <td>0.000000</td>\n",
       "      <td>0.000000</td>\n",
       "      <td>0.462922</td>\n",
       "      <td>0.000000</td>\n",
       "      <td>0.000000</td>\n",
       "      <td>0.000000</td>\n",
       "      <td>0.000000</td>\n",
       "      <td>0.000000</td>\n",
       "      <td>2</td>\n",
       "    </tr>\n",
       "    <tr>\n",
       "      <th>19</th>\n",
       "      <td>0.0</td>\n",
       "      <td>0.00000</td>\n",
       "      <td>0.0</td>\n",
       "      <td>0.000000</td>\n",
       "      <td>0.000000</td>\n",
       "      <td>0.141451</td>\n",
       "      <td>0.000000</td>\n",
       "      <td>0.0</td>\n",
       "      <td>0.000000</td>\n",
       "      <td>0.095837</td>\n",
       "      <td>...</td>\n",
       "      <td>0.103187</td>\n",
       "      <td>0.000000</td>\n",
       "      <td>0.000000</td>\n",
       "      <td>0.000000</td>\n",
       "      <td>0.000000</td>\n",
       "      <td>0.000000</td>\n",
       "      <td>0.000000</td>\n",
       "      <td>0.000000</td>\n",
       "      <td>0.000000</td>\n",
       "      <td>4</td>\n",
       "    </tr>\n",
       "  </tbody>\n",
       "</table>\n",
       "<p>20 rows × 170 columns</p>\n",
       "</div>"
      ],
      "text/plain": [
       "    actually      add  almost   another  anything    around      back  bag  \\\n",
       "0        0.0  0.00000     0.0  0.000000  0.000000  0.000000  0.000000  0.0   \n",
       "1        0.0  0.00000     0.0  0.000000  0.190806  0.000000  0.182192  0.0   \n",
       "2        0.0  0.00000     0.0  0.000000  0.000000  0.000000  0.000000  0.0   \n",
       "3        0.0  0.00000     0.0  0.000000  0.000000  0.000000  0.000000  0.0   \n",
       "4        0.0  0.00000     0.0  0.000000  0.000000  0.000000  0.000000  0.0   \n",
       "5        0.0  0.00000     0.0  0.000000  0.000000  0.000000  0.000000  0.0   \n",
       "6        0.0  0.00000     0.0  0.000000  0.000000  0.000000  0.000000  0.0   \n",
       "7        0.0  0.00000     0.0  0.269944  0.265240  0.000000  0.000000  0.0   \n",
       "8        0.0  0.17173     0.0  0.000000  0.000000  0.000000  0.000000  0.0   \n",
       "9        0.0  0.00000     0.0  0.000000  0.000000  0.000000  0.099332  0.0   \n",
       "10       0.0  0.00000     0.0  0.266232  0.000000  0.264405  0.000000  0.0   \n",
       "11       0.0  0.00000     0.0  0.000000  0.000000  0.000000  0.000000  0.0   \n",
       "12       0.0  0.00000     0.0  0.000000  0.000000  0.000000  0.000000  0.0   \n",
       "13       0.0  0.00000     0.0  0.000000  0.000000  0.000000  0.000000  0.0   \n",
       "14       0.0  0.00000     0.0  0.000000  0.000000  0.000000  0.000000  0.0   \n",
       "15       0.0  0.00000     0.0  0.000000  0.000000  0.000000  0.000000  0.0   \n",
       "16       0.0  0.00000     0.0  0.000000  0.000000  0.000000  0.000000  0.0   \n",
       "17       0.0  0.00000     0.0  0.000000  0.000000  0.000000  0.149333  0.0   \n",
       "18       0.0  0.00000     0.0  0.000000  0.000000  0.000000  0.000000  0.0   \n",
       "19       0.0  0.00000     0.0  0.000000  0.000000  0.141451  0.000000  0.0   \n",
       "\n",
       "        bags      best    ...         well     whole   without  wonderful  \\\n",
       "0   0.000000  0.000000    ...     0.371149  0.000000  0.000000   0.000000   \n",
       "1   0.000000  0.000000    ...     0.281373  0.180180  0.000000   0.000000   \n",
       "2   0.000000  0.000000    ...     0.000000  0.000000  0.000000   0.000000   \n",
       "3   0.000000  0.422840    ...     0.000000  0.000000  0.000000   0.000000   \n",
       "4   0.288982  0.000000    ...     0.000000  0.000000  0.000000   0.000000   \n",
       "5   0.000000  0.000000    ...     0.000000  0.000000  0.000000   0.000000   \n",
       "6   0.000000  0.228766    ...     0.000000  0.000000  0.000000   0.000000   \n",
       "7   0.000000  0.181639    ...     0.000000  0.000000  0.000000   0.000000   \n",
       "8   0.000000  0.130243    ...     0.140232  0.000000  0.000000   0.000000   \n",
       "9   0.000000  0.071240    ...     0.000000  0.098236  0.000000   0.000000   \n",
       "10  0.000000  0.000000    ...     0.000000  0.000000  0.000000   0.000000   \n",
       "11  0.000000  0.000000    ...     0.000000  0.000000  0.000000   0.000000   \n",
       "12  0.000000  0.000000    ...     0.000000  0.000000  0.000000   0.000000   \n",
       "13  0.000000  0.000000    ...     0.000000  0.000000  0.000000   0.000000   \n",
       "14  0.000000  0.000000    ...     0.000000  0.000000  0.000000   0.000000   \n",
       "15  0.000000  0.000000    ...     0.171087  0.000000  0.000000   0.000000   \n",
       "16  0.000000  0.000000    ...     0.000000  0.000000  0.000000   0.000000   \n",
       "17  0.000000  0.107100    ...     0.000000  0.000000  0.137998   0.000000   \n",
       "18  0.000000  0.000000    ...     0.000000  0.000000  0.000000   0.462922   \n",
       "19  0.000000  0.095837    ...     0.103187  0.000000  0.000000   0.000000   \n",
       "\n",
       "        work     worth     would      year     years  clusters  \n",
       "0   0.000000  0.000000  0.000000  0.000000  0.000000         0  \n",
       "1   0.000000  0.000000  0.270993  0.000000  0.165458         2  \n",
       "2   0.000000  0.000000  0.000000  0.000000  0.000000         2  \n",
       "3   0.000000  0.000000  0.000000  0.000000  0.000000         2  \n",
       "4   0.000000  0.000000  0.000000  0.000000  0.000000         0  \n",
       "5   0.000000  0.000000  0.000000  0.000000  0.000000         2  \n",
       "6   0.000000  0.000000  0.000000  0.000000  0.289681         2  \n",
       "7   0.257716  0.267007  0.188354  0.000000  0.000000         2  \n",
       "8   0.184794  0.000000  0.000000  0.000000  0.000000         2  \n",
       "9   0.000000  0.000000  0.000000  0.000000  0.090209         2  \n",
       "10  0.254172  0.000000  0.000000  0.000000  0.000000         2  \n",
       "11  0.000000  0.000000  0.000000  0.000000  0.000000         2  \n",
       "12  0.000000  0.000000  0.327844  0.000000  0.000000         0  \n",
       "13  0.000000  0.232930  0.000000  0.000000  0.000000         2  \n",
       "14  0.000000  0.000000  0.000000  0.000000  0.000000         0  \n",
       "15  0.000000  0.000000  0.000000  0.225723  0.000000         2  \n",
       "16  0.000000  0.000000  0.000000  0.000000  0.000000         0  \n",
       "17  0.000000  0.000000  0.111060  0.000000  0.000000         2  \n",
       "18  0.000000  0.000000  0.000000  0.000000  0.000000         2  \n",
       "19  0.000000  0.000000  0.000000  0.000000  0.000000         4  \n",
       "\n",
       "[20 rows x 170 columns]"
      ]
     },
     "execution_count": 72,
     "metadata": {},
     "output_type": "execute_result"
    }
   ],
   "source": [
    "dense_df.head(20)"
   ]
  },
  {
   "cell_type": "code",
   "execution_count": 74,
   "metadata": {
    "collapsed": false
   },
   "outputs": [
    {
     "name": "stdout",
     "output_type": "stream",
     "text": [
      "These are the 5 top clusters of types of Amazon five star reviews:\n",
      "0\n",
      "great     0.293277\n",
      "love      0.059932\n",
      "taste     0.053704\n",
      "price     0.050476\n",
      "good      0.046711\n",
      "flavor    0.038905\n",
      "snack     0.038183\n",
      "buy       0.034918\n",
      "time      0.029731\n",
      "really    0.029722\n",
      "Name: 0, dtype: float64\n",
      "1\n",
      "dog        0.298844\n",
      "food       0.281999\n",
      "love       0.054214\n",
      "eat        0.049524\n",
      "good       0.047902\n",
      "treat      0.047129\n",
      "like       0.044019\n",
      "quality    0.038528\n",
      "great      0.038125\n",
      "old        0.036182\n",
      "Name: 1, dtype: float64\n",
      "2\n",
      "like      0.060298\n",
      "good      0.060248\n",
      "love      0.051579\n",
      "taste     0.044084\n",
      "best      0.041385\n",
      "flavor    0.040074\n",
      "really    0.037108\n",
      "find      0.036870\n",
      "would     0.031285\n",
      "much      0.031218\n",
      "Name: 2, dtype: float64\n",
      "3\n",
      "coffee     0.472657\n",
      "cup        0.108794\n",
      "like       0.067886\n",
      "good       0.064423\n",
      "strong     0.059881\n",
      "flavor     0.057617\n",
      "great      0.054212\n",
      "taste      0.053451\n",
      "love       0.048512\n",
      "morning    0.039605\n",
      "Name: 3, dtype: float64\n",
      "4\n",
      "tea       0.528966\n",
      "green     0.072614\n",
      "love      0.050964\n",
      "great     0.048647\n",
      "good      0.047311\n",
      "flavor    0.045409\n",
      "taste     0.045076\n",
      "drink     0.044926\n",
      "like      0.041830\n",
      "best      0.037912\n",
      "Name: 4, dtype: float64\n"
     ]
    }
   ],
   "source": [
    "print 'These are the 5 top clusters of types of Amazon five star reviews:'\n",
    "\n",
    "for i in range(n_clusters):\n",
    "    print i\n",
    "    print(dense_df.groupby('clusters').mean().iloc[i].sort_values(ascending = False)[:10])"
   ]
  },
  {
   "cell_type": "code",
   "execution_count": null,
   "metadata": {
    "collapsed": true
   },
   "outputs": [],
   "source": []
  }
 ],
 "metadata": {
  "kernelspec": {
   "display_name": "Python 2",
   "language": "python",
   "name": "python2"
  },
  "language_info": {
   "codemirror_mode": {
    "name": "ipython",
    "version": 2
   },
   "file_extension": ".py",
   "mimetype": "text/x-python",
   "name": "python",
   "nbconvert_exporter": "python",
   "pygments_lexer": "ipython2",
   "version": "2.7.12"
  }
 },
 "nbformat": 4,
 "nbformat_minor": 0
}
